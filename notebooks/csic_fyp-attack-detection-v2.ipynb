{
 "cells": [
  {
   "cell_type": "code",
   "execution_count": 1,
   "metadata": {
    "_cell_guid": "b1076dfc-b9ad-4769-8c92-a6c4dae69d19",
    "_uuid": "8f2839f25d086af736a60e9eeb907d3b93b6e0e5"
   },
   "outputs": [
    {
     "name": "stdout",
     "output_type": "stream",
     "text": [
      "/kaggle/input/csic-2010-attack-dataset-v2/csic_2010_attack_dataset_v2.csv\n"
     ]
    }
   ],
   "source": [
    "# This Python 3 environment comes with many helpful analytics libraries installed\n",
    "# It is defined by the kaggle/python docker image: https://github.com/kaggle/docker-python\n",
    "# For example, here's several helpful packages to load in \n",
    "\n",
    "import numpy as np # linear algebra\n",
    "import pandas as pd # data processing, CSV file I/O (e.g. pd.read_csv)\n",
    "\n",
    "# Input data files are available in the \"../input/\" directory.\n",
    "# For example, running this (by clicking run or pressing Shift+Enter) will list all files under the input directory\n",
    "\n",
    "import os\n",
    "for dirname, _, filenames in os.walk('/kaggle/input'):\n",
    "    for filename in filenames:\n",
    "        print(os.path.join(dirname, filename))\n",
    "\n",
    "# Any results you write to the current directory are saved as output."
   ]
  },
  {
   "cell_type": "code",
   "execution_count": 2,
   "metadata": {
    "_cell_guid": "79c7e3d0-c299-4dcb-8224-4455121ee9b0",
    "_uuid": "d629ff2d2480ee46fbb7e2d37f6b5fab8052498a"
   },
   "outputs": [],
   "source": [
    "import pandas as pd\n",
    "import numpy as np\n",
    "import matplotlib.pyplot as plt\n",
    "from sklearn.model_selection import train_test_split\n",
    "from sklearn.linear_model import LogisticRegression\n",
    "from sklearn.metrics import accuracy_score\n",
    "from sklearn.model_selection import KFold\n",
    "from sklearn import base\n",
    "from collections import Counter\n",
    "from sklearn import metrics\n",
    "from sklearn.metrics import roc_auc_score\n",
    "from sklearn.metrics import confusion_matrix\n",
    "import seaborn\n",
    "from sklearn.feature_extraction.text import CountVectorizer\n",
    "from sklearn.feature_extraction.text import TfidfTransformer\n",
    "from sklearn.feature_extraction.text import TfidfVectorizer\n",
    "from sklearn.pipeline import Pipeline\n",
    "from sklearn.model_selection import GridSearchCV\n",
    "from pprint import pprint\n",
    "from time import time\n",
    "import logging\n"
   ]
  },
  {
   "cell_type": "code",
   "execution_count": 3,
   "metadata": {},
   "outputs": [
    {
     "name": "stderr",
     "output_type": "stream",
     "text": [
      "/opt/conda/lib/python3.6/site-packages/IPython/core/interactiveshell.py:3063: DtypeWarning: Columns (14) have mixed types. Specify dtype option on import or set low_memory=False.\n",
      "  interactivity=interactivity, compiler=compiler, result=result)\n"
     ]
    }
   ],
   "source": [
    "df = pd.read_csv('/kaggle/input/csic-2010-attack-dataset-v2/csic_2010_attack_dataset_v2.csv')"
   ]
  },
  {
   "cell_type": "code",
   "execution_count": 4,
   "metadata": {},
   "outputs": [
    {
     "name": "stdout",
     "output_type": "stream",
     "text": [
      "<class 'pandas.core.frame.DataFrame'>\n",
      "RangeIndex: 223585 entries, 0 to 223584\n",
      "Data columns (total 18 columns):\n",
      "index             223585 non-null int64\n",
      "method            223585 non-null object\n",
      "url               223585 non-null object\n",
      "protocol          223585 non-null object\n",
      "userAgent         223585 non-null object\n",
      "pragma            223585 non-null object\n",
      "cacheControl      223585 non-null object\n",
      "accept            223585 non-null object\n",
      "acceptEncoding    223585 non-null object\n",
      "acceptCharset     223585 non-null object\n",
      "acceptLanguage    223585 non-null object\n",
      "host              223585 non-null object\n",
      "connection        223585 non-null object\n",
      "contentLength     100135 non-null float64\n",
      "contentType       100135 non-null object\n",
      "cookie            223585 non-null object\n",
      "payload           198094 non-null object\n",
      "label             223585 non-null object\n",
      "dtypes: float64(1), int64(1), object(16)\n",
      "memory usage: 30.7+ MB\n"
     ]
    }
   ],
   "source": [
    "df.info()"
   ]
  },
  {
   "cell_type": "code",
   "execution_count": 5,
   "metadata": {},
   "outputs": [
    {
     "data": {
      "text/html": [
       "<div>\n",
       "<style scoped>\n",
       "    .dataframe tbody tr th:only-of-type {\n",
       "        vertical-align: middle;\n",
       "    }\n",
       "\n",
       "    .dataframe tbody tr th {\n",
       "        vertical-align: top;\n",
       "    }\n",
       "\n",
       "    .dataframe thead th {\n",
       "        text-align: right;\n",
       "    }\n",
       "</style>\n",
       "<table border=\"1\" class=\"dataframe\">\n",
       "  <thead>\n",
       "    <tr style=\"text-align: right;\">\n",
       "      <th></th>\n",
       "      <th>index</th>\n",
       "      <th>method</th>\n",
       "      <th>url</th>\n",
       "      <th>protocol</th>\n",
       "      <th>userAgent</th>\n",
       "      <th>pragma</th>\n",
       "      <th>cacheControl</th>\n",
       "      <th>accept</th>\n",
       "      <th>acceptEncoding</th>\n",
       "      <th>acceptCharset</th>\n",
       "      <th>acceptLanguage</th>\n",
       "      <th>host</th>\n",
       "      <th>connection</th>\n",
       "      <th>contentLength</th>\n",
       "      <th>contentType</th>\n",
       "      <th>cookie</th>\n",
       "      <th>payload</th>\n",
       "      <th>label</th>\n",
       "    </tr>\n",
       "  </thead>\n",
       "  <tbody>\n",
       "    <tr>\n",
       "      <th>0</th>\n",
       "      <td>0</td>\n",
       "      <td>GET</td>\n",
       "      <td>http://localhost:8080/tienda1/publico/anadir.jsp</td>\n",
       "      <td>HTTP/1.1</td>\n",
       "      <td>Mozilla/5.0 (compatible; Konqueror/3.5; Linux)...</td>\n",
       "      <td>no-cache</td>\n",
       "      <td>no-cache</td>\n",
       "      <td>text/xml,application/xml,application/xhtml+xml...</td>\n",
       "      <td>x-gzip, x-deflate, gzip, deflate</td>\n",
       "      <td>utf-8, utf-8;q=0.5, *;q=0.5</td>\n",
       "      <td>en</td>\n",
       "      <td>localhost:8080</td>\n",
       "      <td>close</td>\n",
       "      <td>NaN</td>\n",
       "      <td>NaN</td>\n",
       "      <td>JSESSIONID=B92A8B48B9008CD29F622A994E0F650D</td>\n",
       "      <td>id=2</td>\n",
       "      <td>anom</td>\n",
       "    </tr>\n",
       "    <tr>\n",
       "      <th>1</th>\n",
       "      <td>0</td>\n",
       "      <td>GET</td>\n",
       "      <td>http://localhost:8080/tienda1/publico/anadir.jsp</td>\n",
       "      <td>HTTP/1.1</td>\n",
       "      <td>Mozilla/5.0 (compatible; Konqueror/3.5; Linux)...</td>\n",
       "      <td>no-cache</td>\n",
       "      <td>no-cache</td>\n",
       "      <td>text/xml,application/xml,application/xhtml+xml...</td>\n",
       "      <td>x-gzip, x-deflate, gzip, deflate</td>\n",
       "      <td>utf-8, utf-8;q=0.5, *;q=0.5</td>\n",
       "      <td>en</td>\n",
       "      <td>localhost:8080</td>\n",
       "      <td>close</td>\n",
       "      <td>NaN</td>\n",
       "      <td>NaN</td>\n",
       "      <td>JSESSIONID=B92A8B48B9008CD29F622A994E0F650D</td>\n",
       "      <td>nombre=Jam%F3n+Ib%E9rico</td>\n",
       "      <td>anom</td>\n",
       "    </tr>\n",
       "    <tr>\n",
       "      <th>2</th>\n",
       "      <td>0</td>\n",
       "      <td>GET</td>\n",
       "      <td>http://localhost:8080/tienda1/publico/anadir.jsp</td>\n",
       "      <td>HTTP/1.1</td>\n",
       "      <td>Mozilla/5.0 (compatible; Konqueror/3.5; Linux)...</td>\n",
       "      <td>no-cache</td>\n",
       "      <td>no-cache</td>\n",
       "      <td>text/xml,application/xml,application/xhtml+xml...</td>\n",
       "      <td>x-gzip, x-deflate, gzip, deflate</td>\n",
       "      <td>utf-8, utf-8;q=0.5, *;q=0.5</td>\n",
       "      <td>en</td>\n",
       "      <td>localhost:8080</td>\n",
       "      <td>close</td>\n",
       "      <td>NaN</td>\n",
       "      <td>NaN</td>\n",
       "      <td>JSESSIONID=B92A8B48B9008CD29F622A994E0F650D</td>\n",
       "      <td>precio=85</td>\n",
       "      <td>anom</td>\n",
       "    </tr>\n",
       "    <tr>\n",
       "      <th>3</th>\n",
       "      <td>0</td>\n",
       "      <td>GET</td>\n",
       "      <td>http://localhost:8080/tienda1/publico/anadir.jsp</td>\n",
       "      <td>HTTP/1.1</td>\n",
       "      <td>Mozilla/5.0 (compatible; Konqueror/3.5; Linux)...</td>\n",
       "      <td>no-cache</td>\n",
       "      <td>no-cache</td>\n",
       "      <td>text/xml,application/xml,application/xhtml+xml...</td>\n",
       "      <td>x-gzip, x-deflate, gzip, deflate</td>\n",
       "      <td>utf-8, utf-8;q=0.5, *;q=0.5</td>\n",
       "      <td>en</td>\n",
       "      <td>localhost:8080</td>\n",
       "      <td>close</td>\n",
       "      <td>NaN</td>\n",
       "      <td>NaN</td>\n",
       "      <td>JSESSIONID=B92A8B48B9008CD29F622A994E0F650D</td>\n",
       "      <td>cantidad=%27%3B+DROP+TABLE+usuarios%3B+SELECT+...</td>\n",
       "      <td>anom</td>\n",
       "    </tr>\n",
       "    <tr>\n",
       "      <th>4</th>\n",
       "      <td>0</td>\n",
       "      <td>GET</td>\n",
       "      <td>http://localhost:8080/tienda1/publico/anadir.jsp</td>\n",
       "      <td>HTTP/1.1</td>\n",
       "      <td>Mozilla/5.0 (compatible; Konqueror/3.5; Linux)...</td>\n",
       "      <td>no-cache</td>\n",
       "      <td>no-cache</td>\n",
       "      <td>text/xml,application/xml,application/xhtml+xml...</td>\n",
       "      <td>x-gzip, x-deflate, gzip, deflate</td>\n",
       "      <td>utf-8, utf-8;q=0.5, *;q=0.5</td>\n",
       "      <td>en</td>\n",
       "      <td>localhost:8080</td>\n",
       "      <td>close</td>\n",
       "      <td>NaN</td>\n",
       "      <td>NaN</td>\n",
       "      <td>JSESSIONID=B92A8B48B9008CD29F622A994E0F650D</td>\n",
       "      <td>B1=A%F1adir+al+carrito</td>\n",
       "      <td>anom</td>\n",
       "    </tr>\n",
       "  </tbody>\n",
       "</table>\n",
       "</div>"
      ],
      "text/plain": [
       "   index method                                               url  protocol  \\\n",
       "0      0    GET  http://localhost:8080/tienda1/publico/anadir.jsp  HTTP/1.1   \n",
       "1      0    GET  http://localhost:8080/tienda1/publico/anadir.jsp  HTTP/1.1   \n",
       "2      0    GET  http://localhost:8080/tienda1/publico/anadir.jsp  HTTP/1.1   \n",
       "3      0    GET  http://localhost:8080/tienda1/publico/anadir.jsp  HTTP/1.1   \n",
       "4      0    GET  http://localhost:8080/tienda1/publico/anadir.jsp  HTTP/1.1   \n",
       "\n",
       "                                           userAgent    pragma cacheControl  \\\n",
       "0  Mozilla/5.0 (compatible; Konqueror/3.5; Linux)...  no-cache     no-cache   \n",
       "1  Mozilla/5.0 (compatible; Konqueror/3.5; Linux)...  no-cache     no-cache   \n",
       "2  Mozilla/5.0 (compatible; Konqueror/3.5; Linux)...  no-cache     no-cache   \n",
       "3  Mozilla/5.0 (compatible; Konqueror/3.5; Linux)...  no-cache     no-cache   \n",
       "4  Mozilla/5.0 (compatible; Konqueror/3.5; Linux)...  no-cache     no-cache   \n",
       "\n",
       "                                              accept  \\\n",
       "0  text/xml,application/xml,application/xhtml+xml...   \n",
       "1  text/xml,application/xml,application/xhtml+xml...   \n",
       "2  text/xml,application/xml,application/xhtml+xml...   \n",
       "3  text/xml,application/xml,application/xhtml+xml...   \n",
       "4  text/xml,application/xml,application/xhtml+xml...   \n",
       "\n",
       "                     acceptEncoding                acceptCharset  \\\n",
       "0  x-gzip, x-deflate, gzip, deflate  utf-8, utf-8;q=0.5, *;q=0.5   \n",
       "1  x-gzip, x-deflate, gzip, deflate  utf-8, utf-8;q=0.5, *;q=0.5   \n",
       "2  x-gzip, x-deflate, gzip, deflate  utf-8, utf-8;q=0.5, *;q=0.5   \n",
       "3  x-gzip, x-deflate, gzip, deflate  utf-8, utf-8;q=0.5, *;q=0.5   \n",
       "4  x-gzip, x-deflate, gzip, deflate  utf-8, utf-8;q=0.5, *;q=0.5   \n",
       "\n",
       "  acceptLanguage            host connection  contentLength contentType  \\\n",
       "0             en  localhost:8080      close            NaN         NaN   \n",
       "1             en  localhost:8080      close            NaN         NaN   \n",
       "2             en  localhost:8080      close            NaN         NaN   \n",
       "3             en  localhost:8080      close            NaN         NaN   \n",
       "4             en  localhost:8080      close            NaN         NaN   \n",
       "\n",
       "                                        cookie  \\\n",
       "0  JSESSIONID=B92A8B48B9008CD29F622A994E0F650D   \n",
       "1  JSESSIONID=B92A8B48B9008CD29F622A994E0F650D   \n",
       "2  JSESSIONID=B92A8B48B9008CD29F622A994E0F650D   \n",
       "3  JSESSIONID=B92A8B48B9008CD29F622A994E0F650D   \n",
       "4  JSESSIONID=B92A8B48B9008CD29F622A994E0F650D   \n",
       "\n",
       "                                             payload label  \n",
       "0                                               id=2  anom  \n",
       "1                           nombre=Jam%F3n+Ib%E9rico  anom  \n",
       "2                                          precio=85  anom  \n",
       "3  cantidad=%27%3B+DROP+TABLE+usuarios%3B+SELECT+...  anom  \n",
       "4                             B1=A%F1adir+al+carrito  anom  "
      ]
     },
     "execution_count": 5,
     "metadata": {},
     "output_type": "execute_result"
    }
   ],
   "source": [
    "df.head()"
   ]
  },
  {
   "cell_type": "code",
   "execution_count": 6,
   "metadata": {},
   "outputs": [],
   "source": [
    "def _classEncoder(class_label):\n",
    "    if class_label==\"anom\":\n",
    "        return 1\n",
    "    return 0"
   ]
  },
  {
   "cell_type": "code",
   "execution_count": 7,
   "metadata": {},
   "outputs": [],
   "source": [
    "df['label']=df['label'].apply(_classEncoder)"
   ]
  },
  {
   "cell_type": "code",
   "execution_count": 8,
   "metadata": {},
   "outputs": [],
   "source": [
    "X=df.drop(['label'], axis=1)\n",
    "X=X.drop(['index'], axis=1)\n",
    "y=df['label']"
   ]
  },
  {
   "cell_type": "markdown",
   "metadata": {},
   "source": [
    "**Data Distribution**"
   ]
  },
  {
   "cell_type": "code",
   "execution_count": 9,
   "metadata": {},
   "outputs": [
    {
     "data": {
      "image/png": "[encoded data removed]",
      "text/plain": [
       "<Figure size 432x288 with 1 Axes>"
      ]
     },
     "metadata": {
      "needs_background": "light"
     },
     "output_type": "display_data"
    }
   ],
   "source": [
    "x=y.value_counts()\n",
    "plt.bar(x.index,x)\n",
    "plt.gca().set_xticks([0,1])\n",
    "plt.title('distribution of target variable')\n",
    "plt.show()"
   ]
  },
  {
   "cell_type": "markdown",
   "metadata": {},
   "source": [
    "**Splitting the Train and Test Data**"
   ]
  },
  {
   "cell_type": "code",
   "execution_count": 10,
   "metadata": {},
   "outputs": [],
   "source": [
    "def Train_Test_Split(X,y):\n",
    "    X_train, X_test, y_train, y_test = train_test_split(X, y, random_state=42, test_size=0.35, stratify=y)\n",
    "    print(\"y_train - \", Counter(y_train))\n",
    "    print(\"y_test - \", Counter(y_test))\n",
    "    return X_train, X_test, y_train, y_test"
   ]
  },
  {
   "cell_type": "code",
   "execution_count": 11,
   "metadata": {},
   "outputs": [
    {
     "name": "stdout",
     "output_type": "stream",
     "text": [
      "y_train -  Counter({1: 77730, 0: 67600})\n",
      "y_test -  Counter({1: 41855, 0: 36400})\n"
     ]
    }
   ],
   "source": [
    "X_train, X_test, y_train, y_test = Train_Test_Split(X,y)"
   ]
  },
  {
   "cell_type": "markdown",
   "metadata": {},
   "source": [
    "**Label Encoding**"
   ]
  },
  {
   "cell_type": "code",
   "execution_count": 12,
   "metadata": {},
   "outputs": [],
   "source": [
    "from sklearn.preprocessing import LabelEncoder"
   ]
  },
  {
   "cell_type": "code",
   "execution_count": 13,
   "metadata": {},
   "outputs": [
    {
     "name": "stdout",
     "output_type": "stream",
     "text": [
      "method                 0\n",
      "url                    0\n",
      "protocol               0\n",
      "userAgent              0\n",
      "pragma                 0\n",
      "cacheControl           0\n",
      "accept                 0\n",
      "acceptEncoding         0\n",
      "acceptCharset          0\n",
      "acceptLanguage         0\n",
      "host                   0\n",
      "connection             0\n",
      "contentLength     123450\n",
      "contentType       123450\n",
      "cookie                 0\n",
      "payload            25491\n",
      "dtype: int64\n",
      "method            0\n",
      "url               0\n",
      "protocol          0\n",
      "userAgent         0\n",
      "pragma            0\n",
      "cacheControl      0\n",
      "accept            0\n",
      "acceptEncoding    0\n",
      "acceptCharset     0\n",
      "acceptLanguage    0\n",
      "host              0\n",
      "connection        0\n",
      "contentLength     0\n",
      "contentType       0\n",
      "cookie            0\n",
      "payload           0\n",
      "dtype: int64\n"
     ]
    }
   ],
   "source": [
    "print(X.isna().sum())\n",
    "X['contentLength'] = X['contentLength'].fillna(0)\n",
    "X = X.replace(np.nan, '', regex=True)\n",
    "# X['contentType'] = X['contentType'].fillna(None)\n",
    "# X['payload'] = X['payload'].fillna(None)\n",
    "print(X.isna().sum())\n",
    "# for c in X.columns:\n",
    "#     print(c, X[c].isna().sum())"
   ]
  },
  {
   "cell_type": "code",
   "execution_count": 14,
   "metadata": {},
   "outputs": [
    {
     "name": "stdout",
     "output_type": "stream",
     "text": [
      "y_train -  Counter({1: 77730, 0: 67600})\n",
      "y_test -  Counter({1: 41855, 0: 36400})\n"
     ]
    }
   ],
   "source": [
    "X_train, X_test, y_train, y_test = Train_Test_Split(X,y)"
   ]
  },
  {
   "cell_type": "code",
   "execution_count": 15,
   "metadata": {},
   "outputs": [
    {
     "name": "stdout",
     "output_type": "stream",
     "text": [
      "<class 'pandas.core.frame.DataFrame'>\n"
     ]
    }
   ],
   "source": [
    "print(type(X_test))"
   ]
  },
  {
   "cell_type": "code",
   "execution_count": 16,
   "metadata": {},
   "outputs": [
    {
     "data": {
      "text/html": [
       "<div>\n",
       "<style scoped>\n",
       "    .dataframe tbody tr th:only-of-type {\n",
       "        vertical-align: middle;\n",
       "    }\n",
       "\n",
       "    .dataframe tbody tr th {\n",
       "        vertical-align: top;\n",
       "    }\n",
       "\n",
       "    .dataframe thead th {\n",
       "        text-align: right;\n",
       "    }\n",
       "</style>\n",
       "<table border=\"1\" class=\"dataframe\">\n",
       "  <thead>\n",
       "    <tr style=\"text-align: right;\">\n",
       "      <th></th>\n",
       "      <th>method</th>\n",
       "      <th>url</th>\n",
       "      <th>protocol</th>\n",
       "      <th>userAgent</th>\n",
       "      <th>pragma</th>\n",
       "      <th>cacheControl</th>\n",
       "      <th>accept</th>\n",
       "      <th>acceptEncoding</th>\n",
       "      <th>acceptCharset</th>\n",
       "      <th>acceptLanguage</th>\n",
       "      <th>host</th>\n",
       "      <th>connection</th>\n",
       "      <th>contentLength</th>\n",
       "      <th>contentType</th>\n",
       "      <th>cookie</th>\n",
       "      <th>payload</th>\n",
       "    </tr>\n",
       "  </thead>\n",
       "  <tbody>\n",
       "    <tr>\n",
       "      <th>0</th>\n",
       "      <td>0</td>\n",
       "      <td>1214</td>\n",
       "      <td>0</td>\n",
       "      <td>0</td>\n",
       "      <td>0</td>\n",
       "      <td>0</td>\n",
       "      <td>0</td>\n",
       "      <td>0</td>\n",
       "      <td>0</td>\n",
       "      <td>0</td>\n",
       "      <td>0</td>\n",
       "      <td>0</td>\n",
       "      <td>0.0</td>\n",
       "      <td>0</td>\n",
       "      <td>44254</td>\n",
       "      <td>17162</td>\n",
       "    </tr>\n",
       "    <tr>\n",
       "      <th>1</th>\n",
       "      <td>0</td>\n",
       "      <td>1214</td>\n",
       "      <td>0</td>\n",
       "      <td>0</td>\n",
       "      <td>0</td>\n",
       "      <td>0</td>\n",
       "      <td>0</td>\n",
       "      <td>0</td>\n",
       "      <td>0</td>\n",
       "      <td>0</td>\n",
       "      <td>0</td>\n",
       "      <td>0</td>\n",
       "      <td>0.0</td>\n",
       "      <td>0</td>\n",
       "      <td>44254</td>\n",
       "      <td>22934</td>\n",
       "    </tr>\n",
       "    <tr>\n",
       "      <th>2</th>\n",
       "      <td>0</td>\n",
       "      <td>1214</td>\n",
       "      <td>0</td>\n",
       "      <td>0</td>\n",
       "      <td>0</td>\n",
       "      <td>0</td>\n",
       "      <td>0</td>\n",
       "      <td>0</td>\n",
       "      <td>0</td>\n",
       "      <td>0</td>\n",
       "      <td>0</td>\n",
       "      <td>0</td>\n",
       "      <td>0.0</td>\n",
       "      <td>0</td>\n",
       "      <td>44254</td>\n",
       "      <td>31313</td>\n",
       "    </tr>\n",
       "  </tbody>\n",
       "</table>\n",
       "</div>"
      ],
      "text/plain": [
       "   method   url  protocol  userAgent  pragma  cacheControl  accept  \\\n",
       "0       0  1214         0          0       0             0       0   \n",
       "1       0  1214         0          0       0             0       0   \n",
       "2       0  1214         0          0       0             0       0   \n",
       "\n",
       "   acceptEncoding  acceptCharset  acceptLanguage  host  connection  \\\n",
       "0               0              0               0     0           0   \n",
       "1               0              0               0     0           0   \n",
       "2               0              0               0     0           0   \n",
       "\n",
       "   contentLength  contentType  cookie  payload  \n",
       "0            0.0            0   44254    17162  \n",
       "1            0.0            0   44254    22934  \n",
       "2            0.0            0   44254    31313  "
      ]
     },
     "execution_count": 16,
     "metadata": {},
     "output_type": "execute_result"
    }
   ],
   "source": [
    "train=pd.DataFrame()\n",
    "label=LabelEncoder()\n",
    "for c in X.columns:\n",
    "    if X[c].dtype=='object':\n",
    "#         train[c] = pd.to_numeric(X[c], errors='coerce')\n",
    "        train[c]=label.fit_transform(X[c])\n",
    "    else:\n",
    "        train[c]=X[c]\n",
    "\n",
    "train.head(3)"
   ]
  },
  {
   "cell_type": "code",
   "execution_count": 17,
   "metadata": {},
   "outputs": [
    {
     "name": "stdout",
     "output_type": "stream",
     "text": [
      "<class 'pandas.core.frame.DataFrame'>\n",
      "RangeIndex: 223585 entries, 0 to 223584\n",
      "Data columns (total 16 columns):\n",
      "method            223585 non-null int64\n",
      "url               223585 non-null int64\n",
      "protocol          223585 non-null int64\n",
      "userAgent         223585 non-null int64\n",
      "pragma            223585 non-null int64\n",
      "cacheControl      223585 non-null int64\n",
      "accept            223585 non-null int64\n",
      "acceptEncoding    223585 non-null int64\n",
      "acceptCharset     223585 non-null int64\n",
      "acceptLanguage    223585 non-null int64\n",
      "host              223585 non-null int64\n",
      "connection        223585 non-null int64\n",
      "contentLength     223585 non-null float64\n",
      "contentType       223585 non-null int64\n",
      "cookie            223585 non-null int64\n",
      "payload           223585 non-null int64\n",
      "dtypes: float64(1), int64(15)\n",
      "memory usage: 27.3 MB\n"
     ]
    }
   ],
   "source": [
    "train.info()"
   ]
  },
  {
   "cell_type": "code",
   "execution_count": 18,
   "metadata": {},
   "outputs": [
    {
     "name": "stdout",
     "output_type": "stream",
     "text": [
      "train data set has got 223585 rows and 16 columns\n"
     ]
    }
   ],
   "source": [
    "print('train data set has got {} rows and {} columns'.format(train.shape[0],train.shape[1]))"
   ]
  },
  {
   "cell_type": "markdown",
   "metadata": {},
   "source": [
    "**Logistic Regression**"
   ]
  },
  {
   "cell_type": "code",
   "execution_count": 19,
   "metadata": {},
   "outputs": [],
   "source": [
    "def logistic(X_train, X_test, y_train, y_test, C=0.0001, max_iter=100):\n",
    "    lr = LogisticRegression(C=C, max_iter=max_iter)\n",
    "    lr.fit(X_train,y_train)\n",
    "    y_predict = np.array(lr.predict_proba(X_test)[:, 1])\n",
    "    return y_test, y_predict, lr"
   ]
  },
  {
   "cell_type": "code",
   "execution_count": 20,
   "metadata": {},
   "outputs": [],
   "source": [
    "def model_stats(TP, TN, FP, FN):\n",
    "    sensitivity=TP/float(TP+FN)\n",
    "    specificity=TN/float(TN+FP)\n",
    "    print('The acuuracy of the model = TP+TN/(TP+TN+FP+FN) = ',(TP+TN)/float(TP+TN+FP+FN),'\\n',\n",
    "\n",
    "    'The Missclassification = 1-Accuracy = ',1-((TP+TN)/float(TP+TN+FP+FN)),'\\n',\n",
    "\n",
    "    'Sensitivity or True Positive Rate = TP/(TP+FN) = ',TP/float(TP+FN),'\\n',\n",
    "\n",
    "    'Specificity or True Negative Rate = TN/(TN+FP) = ',TN/float(TN+FP),'\\n',\n",
    "\n",
    "    'Positive Predictive value = TP/(TP+FP) = ',TP/float(TP+FP),'\\n',\n",
    "\n",
    "    'Negative predictive Value = TN/(TN+FN) = ',TN/float(TN+FN),'\\n',\n",
    "\n",
    "    'Positive Likelihood Ratio = Sensitivity/(1-Specificity) = ',sensitivity/(1-specificity),'\\n',\n",
    "\n",
    "    'Negative likelihood Ratio = (1-Sensitivity)/Specificity = ',(1-sensitivity)/specificity)\n"
   ]
  },
  {
   "cell_type": "code",
   "execution_count": 21,
   "metadata": {},
   "outputs": [
    {
     "name": "stdout",
     "output_type": "stream",
     "text": [
      "y_train -  Counter({1: 77730, 0: 67600})\n",
      "y_test -  Counter({1: 41855, 0: 36400})\n"
     ]
    }
   ],
   "source": [
    "X_train, X_test, y_train, y_test = Train_Test_Split(train,y)"
   ]
  },
  {
   "cell_type": "code",
   "execution_count": 22,
   "metadata": {},
   "outputs": [],
   "source": [
    "y_true, y_predict, _ = logistic(X_train, X_test, y_train, y_test)"
   ]
  },
  {
   "cell_type": "code",
   "execution_count": 23,
   "metadata": {},
   "outputs": [
    {
     "name": "stdout",
     "output_type": "stream",
     "text": [
      "roc score;  0.5863002969435295\n",
      "[array([0.        , 0.        , 0.        , ..., 0.99994505, 1.        ,\n",
      "       1.        ]), array([0.00000000e+00, 2.38920081e-05, 7.97993071e-03, ...,\n",
      "       9.94337594e-01, 9.94337594e-01, 1.00000000e+00]), array([1.85621483, 0.85621483, 0.69609142, ..., 0.4280588 , 0.42804847,\n",
      "       0.42149712])]\n",
      "optimal_threshold:  0.4639794134766008\n",
      "tn:  10603 fp:  25797 fn:  6288 tp:  35567\n",
      "[[10603 25797]\n",
      " [ 6288 35567]]\n"
     ]
    },
    {
     "data": {
      "image/png": "[encoded data removed]",
      "text/plain": [
       "<Figure size 432x288 with 2 Axes>"
      ]
     },
     "metadata": {
      "needs_background": "light"
     },
     "output_type": "display_data"
    },
    {
     "name": "stdout",
     "output_type": "stream",
     "text": [
      "The acuuracy of the model = TP+TN/(TP+TN+FP+FN) =  0.5899942495687176 \n",
      " The Missclassification = 1-Accuracy =  0.4100057504312824 \n",
      " Sensitivity or True Positive Rate = TP/(TP+FN) =  0.849767052920798 \n",
      " Specificity or True Negative Rate = TN/(TN+FP) =  0.2912912087912088 \n",
      " Positive Predictive value = TP/(TP+FP) =  0.5796069356626035 \n",
      " Negative predictive Value = TN/(TN+FN) =  0.6277307441832929 \n",
      " Positive Likelihood Ratio = Sensitivity/(1-Specificity) =  1.1990355749241015 \n",
      " Negative likelihood Ratio = (1-Sensitivity)/Specificity =  0.5157483046008632\n"
     ]
    }
   ],
   "source": [
    "# 1 -> attack, 0-> normal\n",
    "print(\"roc score; \", roc_auc_score(y_true, y_predict))\n",
    "\n",
    "fpr, tpr, thresholds = metrics.roc_curve(y_true, y_predict)\n",
    "print([fpr, tpr, thresholds])\n",
    "optimal_idx = np.argmax(tpr - fpr)\n",
    "optimal_threshold = thresholds[optimal_idx]\n",
    "print(\"optimal_threshold: \", optimal_threshold)\n",
    "\n",
    "# use the above optimal_threshold to calculate new y_predict, calculate confusion matrix and model_stats\n",
    "y_predict_val = [1 if i >= optimal_threshold else 0 for i in y_predict]\n",
    "\n",
    "# 0 -> negative, 1 -> positive\n",
    "tn, fp, fn, tp = confusion_matrix(y_true, y_predict_val).ravel()\n",
    "conf_mat = confusion_matrix(y_true, y_predict_val)\n",
    "print(\"tn: \", tn, \"fp: \", fp, \"fn: \", fn, \"tp: \", tp)\n",
    "print(conf_mat)\n",
    "seaborn.heatmap(conf_mat, annot=True, fmt=\"d\")\n",
    "plt.show()\n",
    "\n",
    "model_stats(tp, tn, fp, fn)"
   ]
  },
  {
   "cell_type": "markdown",
   "metadata": {},
   "source": [
    "**GridSearch for Feature Extractor**"
   ]
  },
  {
   "cell_type": "code",
   "execution_count": 24,
   "metadata": {},
   "outputs": [],
   "source": [
    "vectorizer = TfidfVectorizer(max_df=0.5)"
   ]
  },
  {
   "cell_type": "code",
   "execution_count": 25,
   "metadata": {},
   "outputs": [],
   "source": [
    "lr=LogisticRegression()\n",
    "# lr.get_params()"
   ]
  },
  {
   "cell_type": "code",
   "execution_count": 26,
   "metadata": {},
   "outputs": [
    {
     "name": "stdout",
     "output_type": "stream",
     "text": [
      "y_train -  Counter({1: 77730, 0: 67600})\n",
      "y_test -  Counter({1: 41855, 0: 36400})\n"
     ]
    }
   ],
   "source": [
    "# print(X.shape, \"type; \", type(X))\n",
    "# print(y.shape, \"type: \", type(y))\n",
    "X_train, X_test, y_train, y_test = Train_Test_Split(X,y)\n",
    "# print(X_train.shape, \"type; \", type(X_train))\n",
    "# print(y_train.shape, \"type: \", type(y_train))"
   ]
  },
  {
   "cell_type": "code",
   "execution_count": 27,
   "metadata": {},
   "outputs": [],
   "source": [
    "def to_str(X):\n",
    "    count=0\n",
    "    X_str=[]\n",
    "    for index, row in X.iterrows():\n",
    "        temp=\"\"\n",
    "        for c in X.columns:\n",
    "            temp = temp + ' ' + str(row[c])\n",
    "        X_str.append(temp)\n",
    "#         if count<10:\n",
    "# #             print('index; ', index)\n",
    "#             count+=1\n",
    "#             for c in X.columns:\n",
    "#                 print(row[c])\n",
    "    return X_str"
   ]
  },
  {
   "cell_type": "code",
   "execution_count": 28,
   "metadata": {},
   "outputs": [],
   "source": [
    "# X_np, y_np = X_train.to_numpy(), y_train.to_numpy()\n",
    "# print(type(X_np), \" type, \", X_np.dtype)\n",
    "# print(type(y_np), \" type, \", y_np.shape)\n",
    "# X_str=to_str(X)\n",
    "X_train_str=to_str(X_train)\n",
    "# print(type(X_str), \" data; \", X_str[0])\n",
    "# print(type(X_train_str), \" data; \", X_train_str[0])\n",
    "# X_str.head()\n",
    "# X_str.info()"
   ]
  },
  {
   "cell_type": "code",
   "execution_count": 29,
   "metadata": {},
   "outputs": [],
   "source": [
    "X_train_v = vectorizer.fit_transform(X_train_str)\n",
    "# print(\"shape, \", X_train_v.shape, \" first; \", X_train_v[0])"
   ]
  },
  {
   "cell_type": "code",
   "execution_count": 30,
   "metadata": {},
   "outputs": [],
   "source": [
    "from sklearn import preprocessing\n",
    "scaler = preprocessing.StandardScaler(with_mean=False).fit(X_train_v)\n",
    "X_scaled = scaler.transform(X_train_v)"
   ]
  },
  {
   "cell_type": "code",
   "execution_count": 31,
   "metadata": {},
   "outputs": [],
   "source": [
    "# param_grid = {'C': [0.001, 0.01, 0.1, 1, 10, 100, 1000] }\n",
    "# clf = GridSearchCV(LogisticRegression(penalty='l2'), param_grid)\n",
    "# GridSearchCV(cv=None,\n",
    "#              estimator=LogisticRegression(C=1.0, max_iter=1000, intercept_scaling=1,   \n",
    "#                dual=False, fit_intercept=True, penalty='l2', tol=0.0001),\n",
    "#              param_grid={'C': [0.001, 0.01, 0.1, 1, 10, 100, 1000]})\n",
    "\n",
    "# clf.fit(X_scaled, y_train)"
   ]
  },
  {
   "cell_type": "code",
   "execution_count": 32,
   "metadata": {},
   "outputs": [],
   "source": [
    "pipeline = Pipeline([\n",
    "    ('clf', LogisticRegression())\n",
    "])"
   ]
  },
  {
   "cell_type": "code",
   "execution_count": 33,
   "metadata": {},
   "outputs": [],
   "source": [
    "parameters = {\n",
    "#     'vect__max_df': (0.5, 0.75, 1.0),\n",
    "    # 'vect__max_features': (None, 5000, 10000, 50000),\n",
    "#     'vect__ngram_range': ((1, 1)),  # unigrams or bigrams\n",
    "    # 'tfidf__use_idf': (True, False),\n",
    "    # 'tfidf__norm': ('l1', 'l2'),\n",
    "    'clf__max_iter': (100, 10000),\n",
    "    'clf__C': (0.00001, 0.0001, 0.001, 0.01, 0.1, 1, 1.0),\n",
    "#     'clf__penalty': ('l2', 'elasticnet'),\n",
    "    # 'clf__max_iter': (10, 1000),\n",
    "}"
   ]
  },
  {
   "cell_type": "code",
   "execution_count": 34,
   "metadata": {},
   "outputs": [
    {
     "name": "stdout",
     "output_type": "stream",
     "text": [
      "Performing grid search...\n",
      "pipeline: ['clf']\n",
      "parameters:\n",
      "{'clf__C': (1e-05, 0.0001, 0.001, 0.01, 0.1, 1, 1.0),\n",
      " 'clf__max_iter': (100, 10000)}\n",
      "Fitting 5 folds for each of 14 candidates, totalling 70 fits\n"
     ]
    },
    {
     "name": "stderr",
     "output_type": "stream",
     "text": [
      "[Parallel(n_jobs=-1)]: Using backend LokyBackend with 4 concurrent workers.\n",
      "[Parallel(n_jobs=-1)]: Done  42 tasks      | elapsed:    9.2s\n",
      "[Parallel(n_jobs=-1)]: Done  70 out of  70 | elapsed:   52.6s finished\n"
     ]
    },
    {
     "name": "stdout",
     "output_type": "stream",
     "text": [
      "done in 64.283s\n",
      "\n",
      "Best score: 0.964\n",
      "Best parameters set:\n",
      "\tclf__C: 1\n",
      "\tclf__max_iter: 10000\n"
     ]
    }
   ],
   "source": [
    "# find the best parameters for both the feature extraction and the\n",
    "# classifier\n",
    "grid_search = GridSearchCV(pipeline, parameters, n_jobs=-1, verbose=1)\n",
    "print(\"Performing grid search...\")\n",
    "print(\"pipeline:\", [name for name, _ in pipeline.steps])\n",
    "print(\"parameters:\")\n",
    "pprint(parameters)\n",
    "t0 = time()\n",
    "grid_search.fit(X_train_v, y_train.to_numpy())\n",
    "print(\"done in %0.3fs\" % (time() - t0))\n",
    "print()\n",
    "\n",
    "print(\"Best score: %0.3f\" % grid_search.best_score_)\n",
    "print(\"Best parameters set:\")\n",
    "best_parameters = grid_search.best_estimator_.get_params()\n",
    "for param_name in sorted(parameters.keys()):\n",
    "    print(\"\\t%s: %r\" % (param_name, best_parameters[param_name]))\n"
   ]
  },
  {
   "cell_type": "code",
   "execution_count": 35,
   "metadata": {},
   "outputs": [],
   "source": [
    "# using the above 2 parameters in log reg for testing data ...\n",
    "# preparing the test data ...\n",
    "X_test_str=to_str(X_test)\n",
    "X_test_v = vectorizer.transform(X_test_str)\n",
    "X_test_scaled = scaler.transform(X_test_v)"
   ]
  },
  {
   "cell_type": "code",
   "execution_count": 36,
   "metadata": {},
   "outputs": [
    {
     "name": "stdout",
     "output_type": "stream",
     "text": [
      "(145330, 80020)   (78255, 80020)\n",
      "y_true.shape;  (78255,)  y_predict.shape;  (78255,)\n",
      "roc score;  0.9926259873503632\n",
      "[array([0.        , 0.        , 0.        , ..., 0.99032967, 1.        ,\n",
      "       1.        ]), array([0.00000000e+00, 2.38920081e-05, 9.55680325e-05, ...,\n",
      "       9.99928324e-01, 9.99928324e-01, 1.00000000e+00]), array([1.99999966e+00, 9.99999656e-01, 9.99999615e-01, ...,\n",
      "       9.27872546e-05, 5.93467043e-05, 3.33271772e-05])]\n",
      "optimal_threshold:  0.5118798402838789\n",
      "tn:  35613 fp:  787 fn:  974 tp:  40881\n",
      "[[35613   787]\n",
      " [  974 40881]]\n"
     ]
    },
    {
     "data": {
      "image/png": "[encoded data removed]",
      "text/plain": [
       "<Figure size 432x288 with 2 Axes>"
      ]
     },
     "metadata": {
      "needs_background": "light"
     },
     "output_type": "display_data"
    },
    {
     "name": "stdout",
     "output_type": "stream",
     "text": [
      "The acuuracy of the model = TP+TN/(TP+TN+FP+FN) =  0.977496645581752 \n",
      " The Missclassification = 1-Accuracy =  0.022503354418248023 \n",
      " Sensitivity or True Positive Rate = TP/(TP+FN) =  0.9767291840879226 \n",
      " Specificity or True Negative Rate = TN/(TN+FP) =  0.9783791208791209 \n",
      " Positive Predictive value = TP/(TP+FP) =  0.9811126043966593 \n",
      " Negative predictive Value = TN/(TN+FN) =  0.9733785224259983 \n",
      " Positive Likelihood Ratio = Sensitivity/(1-Specificity) =  45.17527611283415 \n",
      " Negative likelihood Ratio = (1-Sensitivity)/Specificity =  0.023785070036211938\n"
     ]
    }
   ],
   "source": [
    "#perform log reg and analyse results ...\n",
    "print(X_scaled.shape, \" \", X_test_scaled.shape )\n",
    "y_true, y_predict, model_lr = logistic(X_train_v, X_test_v, y_train, y_test, C=best_parameters['clf__C'],\n",
    "                             max_iter=best_parameters['clf__max_iter'])\n",
    "print(\"y_true.shape; \", y_true.shape, \" y_predict.shape; \", y_predict.shape)\n",
    "print(\"roc score; \", roc_auc_score(y_true, y_predict))\n",
    "\n",
    "fpr, tpr, thresholds = metrics.roc_curve(y_true, y_predict)\n",
    "print([fpr, tpr, thresholds])\n",
    "optimal_idx = np.argmax(tpr - fpr)\n",
    "optimal_threshold = thresholds[optimal_idx]\n",
    "print(\"optimal_threshold: \", optimal_threshold)\n",
    "\n",
    "# use the above optimal_threshold to calculate new y_predict, calculate confusion matrix and model_stats\n",
    "y_predict_val = [1 if i >= optimal_threshold else 0 for i in y_predict]\n",
    "\n",
    "# 0 -> negative, 1 -> positive\n",
    "tn, fp, fn, tp = confusion_matrix(y_true, y_predict_val).ravel()\n",
    "conf_mat = confusion_matrix(y_true, y_predict_val)\n",
    "print(\"tn: \", tn, \"fp: \", fp, \"fn: \", fn, \"tp: \", tp)\n",
    "print(conf_mat)\n",
    "seaborn.heatmap(conf_mat, annot=True, fmt=\"d\")\n",
    "plt.show()\n",
    "\n",
    "model_stats(tp, tn, fp, fn)"
   ]
  },
  {
   "cell_type": "markdown",
   "metadata": {},
   "source": [
    "# Saving the model"
   ]
  },
  {
   "cell_type": "code",
   "execution_count": 37,
   "metadata": {},
   "outputs": [
    {
     "data": {
      "text/plain": [
       "['lr_model_v2.joblib']"
      ]
     },
     "execution_count": 37,
     "metadata": {},
     "output_type": "execute_result"
    }
   ],
   "source": [
    "from joblib import dump, load\n",
    "dump(model_lr, 'lr_model_v2.joblib') "
   ]
  },
  {
   "cell_type": "code",
   "execution_count": 38,
   "metadata": {},
   "outputs": [
    {
     "data": {
      "text/plain": [
       "['vectorizer_v2.joblib']"
      ]
     },
     "execution_count": 38,
     "metadata": {},
     "output_type": "execute_result"
    }
   ],
   "source": [
    "dump(vectorizer, 'vectorizer_v2.joblib') "
   ]
  }
 ],
 "metadata": {
  "kernelspec": {
   "display_name": "Python 3",
   "language": "python",
   "name": "python3"
  },
  "language_info": {
   "codemirror_mode": {
    "name": "ipython",
    "version": 3
   },
   "file_extension": ".py",
   "mimetype": "text/x-python",
   "name": "python",
   "nbconvert_exporter": "python",
   "pygments_lexer": "ipython3",
   "version": "3.6.6"
  }
 },
 "nbformat": 4,
 "nbformat_minor": 4
}
