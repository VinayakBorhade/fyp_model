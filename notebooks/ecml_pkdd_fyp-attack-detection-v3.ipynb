{
 "cells": [
  {
   "cell_type": "code",
   "execution_count": 1,
   "metadata": {
    "_cell_guid": "b1076dfc-b9ad-4769-8c92-a6c4dae69d19",
    "_uuid": "8f2839f25d086af736a60e9eeb907d3b93b6e0e5"
   },
   "outputs": [
    {
     "ename": "ImportError",
     "evalue": "cannot import name 'roc_score' from 'sklearn.metrics' (/opt/conda/lib/python3.7/site-packages/sklearn/metrics/__init__.py)",
     "output_type": "error",
     "traceback": [
      "\u001b[0;31m---------------------------------------------------------------------------\u001b[0m",
      "\u001b[0;31mImportError\u001b[0m                               Traceback (most recent call last)",
      "\u001b[0;32m<ipython-input-1-95c3b9bd5f6a>\u001b[0m in \u001b[0;36m<module>\u001b[0;34m\u001b[0m\n\u001b[1;32m     17\u001b[0m \u001b[0;32mfrom\u001b[0m \u001b[0msklearn\u001b[0m\u001b[0;34m.\u001b[0m\u001b[0mnaive_bayes\u001b[0m \u001b[0;32mimport\u001b[0m \u001b[0mMultinomialNB\u001b[0m\u001b[0;34m\u001b[0m\u001b[0;34m\u001b[0m\u001b[0m\n\u001b[1;32m     18\u001b[0m \u001b[0;32mfrom\u001b[0m \u001b[0msklearn\u001b[0m\u001b[0;34m.\u001b[0m\u001b[0mmetrics\u001b[0m \u001b[0;32mimport\u001b[0m \u001b[0mroc_auc_score\u001b[0m\u001b[0;34m\u001b[0m\u001b[0;34m\u001b[0m\u001b[0m\n\u001b[0;32m---> 19\u001b[0;31m \u001b[0;32mfrom\u001b[0m \u001b[0msklearn\u001b[0m\u001b[0;34m.\u001b[0m\u001b[0mmetrics\u001b[0m \u001b[0;32mimport\u001b[0m \u001b[0mroc_score\u001b[0m\u001b[0;34m\u001b[0m\u001b[0;34m\u001b[0m\u001b[0m\n\u001b[0m\u001b[1;32m     20\u001b[0m \u001b[0;32mfrom\u001b[0m \u001b[0msklearn\u001b[0m\u001b[0;34m.\u001b[0m\u001b[0mcalibration\u001b[0m \u001b[0;32mimport\u001b[0m \u001b[0mCalibratedClassifierCV\u001b[0m\u001b[0;34m\u001b[0m\u001b[0;34m\u001b[0m\u001b[0m\n\u001b[1;32m     21\u001b[0m \u001b[0;31m# Input data files are available in the read-only \"../input/\" directory\u001b[0m\u001b[0;34m\u001b[0m\u001b[0;34m\u001b[0m\u001b[0;34m\u001b[0m\u001b[0m\n",
      "\u001b[0;31mImportError\u001b[0m: cannot import name 'roc_score' from 'sklearn.metrics' (/opt/conda/lib/python3.7/site-packages/sklearn/metrics/__init__.py)"
     ]
    }
   ],
   "source": [
    "# This Python 3 environment comes with many helpful analytics libraries installed\n",
    "# It is defined by the kaggle/python Docker image: https://github.com/kaggle/docker-python\n",
    "# For example, here's several helpful packages to load\n",
    "\n",
    "import numpy as np # linear algebra\n",
    "import pandas as pd # data processing, CSV file I/O (e.g. pd.read_csv)\n",
    "from sklearn.model_selection import train_test_split\n",
    "from collections import Counter\n",
    "import matplotlib.pyplot as plt\n",
    "from sklearn.ensemble import RandomForestClassifier\n",
    "from sklearn.feature_extraction.text import TfidfVectorizer\n",
    "from sklearn.metrics import confusion_matrix\n",
    "import seaborn\n",
    "from sklearn.linear_model import LogisticRegression\n",
    "from sklearn.svm import LinearSVC\n",
    "from sklearn.model_selection import cross_val_score\n",
    "from sklearn.naive_bayes import MultinomialNB\n",
    "from sklearn.metrics import roc_auc_score\n",
    "from sklearn.metrics import roc_score\n",
    "from sklearn.calibration import CalibratedClassifierCV\n",
    "# Input data files are available in the read-only \"../input/\" directory\n",
    "# For example, running this (by clicking run or pressing Shift+Enter) will list all files under the input directory\n",
    "\n",
    "import os\n",
    "for dirname, _, filenames in os.walk('/kaggle/input'):\n",
    "    for filename in filenames:\n",
    "        print(os.path.join(dirname, filename))\n",
    "\n",
    "# You can write up to 5GB to the current directory (/kaggle/working/) that gets preserved as output when you create a version using \"Save & Run All\" \n",
    "# You can also write temporary files to /kaggle/temp/, but they won't be saved outside of the current session"
   ]
  },
  {
   "cell_type": "code",
   "execution_count": 2,
   "metadata": {
    "_cell_guid": "79c7e3d0-c299-4dcb-8224-4455121ee9b0",
    "_uuid": "d629ff2d2480ee46fbb7e2d37f6b5fab8052498a"
   },
   "outputs": [
    {
     "name": "stdout",
     "output_type": "stream",
     "text": [
      "xml_test.csv  xml_train.csv\r\n"
     ]
    }
   ],
   "source": [
    "!ls /kaggle/input/ecml-pkdd-2007-csv"
   ]
  },
  {
   "cell_type": "code",
   "execution_count": 3,
   "metadata": {},
   "outputs": [
    {
     "name": "stderr",
     "output_type": "stream",
     "text": [
      "b'Skipping line 5312: expected 42 fields, saw 61\\nSkipping line 8526: expected 42 fields, saw 61\\nSkipping line 8708: expected 42 fields, saw 61\\n'\n",
      "b'Skipping line 16405: expected 42 fields, saw 61\\nSkipping line 20330: expected 42 fields, saw 61\\n'\n"
     ]
    }
   ],
   "source": [
    "df_train = pd.read_csv(\"/kaggle/input/ecml-pkdd-2007-csv/xml_train.csv\", sep='\\t')\n",
    "df_test = pd.read_csv(\"/kaggle/input/ecml-pkdd-2007-csv/xml_test.csv\", sep='\\t', error_bad_lines=False)"
   ]
  },
  {
   "cell_type": "code",
   "execution_count": 4,
   "metadata": {},
   "outputs": [
    {
     "name": "stdout",
     "output_type": "stream",
     "text": [
      "train data set has got 24504 rows and 42 columns\n",
      "train data set has got 25598 rows and 42 columns\n"
     ]
    }
   ],
   "source": [
    "print('train data set has got {} rows and {} columns'.format(df_train.shape[0],df_train.shape[1]))\n",
    "print('train data set has got {} rows and {} columns'.format(df_test.shape[0],df_test.shape[1]))"
   ]
  },
  {
   "cell_type": "code",
   "execution_count": 5,
   "metadata": {},
   "outputs": [],
   "source": [
    "df = df_train.append(df_test)"
   ]
  },
  {
   "cell_type": "code",
   "execution_count": 6,
   "metadata": {},
   "outputs": [],
   "source": [
    "classes = [\"Valid\", \"XSS\", \"SqlInjection\", \"LdapInjection\", \"XPathInjection\", \"PathTransversal\", \n",
    "          \"OsCommanding\", \"SSI\"]"
   ]
  },
  {
   "cell_type": "code",
   "execution_count": 7,
   "metadata": {},
   "outputs": [],
   "source": [
    "def _classEncoder(class_label):\n",
    "    return classes.index(class_label)"
   ]
  },
  {
   "cell_type": "code",
   "execution_count": 8,
   "metadata": {},
   "outputs": [],
   "source": [
    "df1 = df.copy()\n",
    "df1['class']=df1['class'].apply(_classEncoder)"
   ]
  },
  {
   "cell_type": "code",
   "execution_count": 9,
   "metadata": {},
   "outputs": [],
   "source": [
    "X=df1.drop(['class'], axis=1)\n",
    "y=df1['class']"
   ]
  },
  {
   "cell_type": "code",
   "execution_count": 10,
   "metadata": {},
   "outputs": [
    {
     "data": {
      "image/png": "[encoded data removed]",
      "text/plain": [
       "<Figure size 432x288 with 1 Axes>"
      ]
     },
     "metadata": {
      "needs_background": "light"
     },
     "output_type": "display_data"
    }
   ],
   "source": [
    "x=y.value_counts()\n",
    "plt.bar(x.index,x)\n",
    "plt.gca().set_xticks([i for i in range(len(classes))])\n",
    "plt.title('distribution of target variable')\n",
    "plt.show()"
   ]
  },
  {
   "cell_type": "code",
   "execution_count": 11,
   "metadata": {},
   "outputs": [
    {
     "name": "stdout",
     "output_type": "stream",
     "text": [
      "total data set has got 50102 rows and 42 columns\n"
     ]
    }
   ],
   "source": [
    "print('total data set has got {} rows and {} columns'.format(df.shape[0], df.shape[1]))"
   ]
  },
  {
   "cell_type": "markdown",
   "execution_count": null,
   "metadata": {},
   "source": [
    "Classes: lists the different subdivision levels of HTTP query categorization ( and how they are represented in the context part of the dataset ).\n",
    "\n",
    "The \"type\" element indicate which class this request belongs to :\n",
    "Normal query ( Valid )\n",
    "Cross-Site Scripting ( XSS )\n",
    "SQL Injection ( SqlInjection )\n",
    "LDAP Injection ( LdapInjection )\n",
    "XPATH Injection ( XPathInjection )\n",
    "Path traversal ( PathTransversal )\n",
    "Command execution ( OsCommanding )\n",
    "SSI attacks ( SSI )\n",
    "\n"
   ]
  },
  {
   "cell_type": "code",
   "execution_count": 12,
   "metadata": {},
   "outputs": [],
   "source": [
    "classes = [\"Valid\", \"XSS\", \"SqlInjection\", \"LdapInjection\", \"XPathInjection\", \"PathTransversal\", \n",
    "          \"OsCommanding\", \"SSI\"]"
   ]
  },
  {
   "cell_type": "code",
   "execution_count": 13,
   "metadata": {},
   "outputs": [
    {
     "name": "stdout",
     "output_type": "stream",
     "text": [
      "Valid  attack has got 35003 rows\n",
      "XSS  attack has got 1824 rows\n",
      "SqlInjection  attack has got 2274 rows\n",
      "LdapInjection  attack has got 2274 rows\n",
      "XPathInjection  attack has got 2279 rows\n",
      "PathTransversal  attack has got 2293 rows\n",
      "OsCommanding  attack has got 2302 rows\n",
      "SSI  attack has got 1853 rows\n"
     ]
    }
   ],
   "source": [
    "df_classes = {}\n",
    "for c in classes:\n",
    "    df_temp = df[df['class'].isin([c])]\n",
    "    print(c, ' attack has got {} rows'.format(df_temp.shape[0]))\n",
    "\n",
    "    df_classes[c] = df_temp"
   ]
  },
  {
   "cell_type": "code",
   "execution_count": 14,
   "metadata": {},
   "outputs": [],
   "source": [
    "def Train_Test_Split(X,y):\n",
    "    X_train, X_test, y_train, y_test = train_test_split(X, y, random_state=42, test_size=0.35, stratify=y)\n",
    "    print(\"y_train - \", Counter(y_train))\n",
    "    print(\"X_train - \", type(X_train))\n",
    "    print(\"y_train - \", type(y_train))\n",
    "    print(\"y_test - \", Counter(y_test))\n",
    "    return X_train, X_test, y_train, y_test"
   ]
  },
  {
   "cell_type": "code",
   "execution_count": 15,
   "metadata": {},
   "outputs": [
    {
     "name": "stdout",
     "output_type": "stream",
     "text": [
      "Valid  train attack has got 22751 rows\n",
      "Valid  test attack has got 12252 rows\n",
      "XSS  train attack has got 1185 rows\n",
      "XSS  test attack has got 639 rows\n",
      "SqlInjection  train attack has got 1478 rows\n",
      "SqlInjection  test attack has got 796 rows\n",
      "LdapInjection  train attack has got 1478 rows\n",
      "LdapInjection  test attack has got 796 rows\n",
      "XPathInjection  train attack has got 1481 rows\n",
      "XPathInjection  test attack has got 798 rows\n",
      "PathTransversal  train attack has got 1490 rows\n",
      "PathTransversal  test attack has got 803 rows\n",
      "OsCommanding  train attack has got 1496 rows\n",
      "OsCommanding  test attack has got 806 rows\n",
      "SSI  train attack has got 1204 rows\n",
      "SSI  test attack has got 649 rows\n"
     ]
    }
   ],
   "source": [
    "dict_df_train = {}\n",
    "dict_df_test = {}\n",
    "df_train = pd.DataFrame()\n",
    "df_test = pd.DataFrame()\n",
    "for c in classes:\n",
    "    df_temp = df_classes[c]\n",
    "    \n",
    "    #shuffling before splitting\n",
    "    df_temp = df_temp.sample(frac=1).reset_index(drop=True)\n",
    "    partition = int(0.65 * df_temp.shape[0])\n",
    "    \n",
    "    dict_df_train[c] = df_temp[:partition]\n",
    "    dict_df_test[c] = df_temp[partition:]\n",
    "    \n",
    "    df_train = df_train.append(dict_df_train[c])\n",
    "    df_test = df_test.append(dict_df_test[c])\n",
    "    \n",
    "    print(c, ' train attack has got {} rows'.format(dict_df_train[c].shape[0]))\n",
    "    print(c, ' test attack has got {} rows'.format(dict_df_test[c].shape[0]))\n",
    "    \n",
    "#     X1 = df_temp.drop(['class'],axis=1)\n",
    "#     y1 = df_temp['class']\n",
    "#     X_train1, X_test1, y_train1, y_test1 = Train_Test_Split(X1, y1)\n",
    "    \n",
    "#     dict_df_x[c] = [X_train1, X_test1]\n",
    "#     dict_df_y[c] = [y_train1, y_test1]\n"
   ]
  },
  {
   "cell_type": "code",
   "execution_count": 16,
   "metadata": {},
   "outputs": [
    {
     "name": "stdout",
     "output_type": "stream",
     "text": [
      "df_train attack has got 32563 rows\n",
      "df_test attack has got 17539 rows\n"
     ]
    }
   ],
   "source": [
    "print('df_train attack has got {} rows'.format(df_train.shape[0]))\n",
    "print('df_test attack has got {} rows'.format(df_test.shape[0]))"
   ]
  },
  {
   "cell_type": "code",
   "execution_count": 17,
   "metadata": {},
   "outputs": [],
   "source": [
    "#shuffling the df_train and df_test\n",
    "df_train = df_train.sample(frac=1).reset_index(drop=True)\n",
    "df_test = df_test.sample(frac=1).reset_index(drop=True)"
   ]
  },
  {
   "cell_type": "code",
   "execution_count": 18,
   "metadata": {},
   "outputs": [
    {
     "data": {
      "text/html": [
       "<div>\n",
       "<style scoped>\n",
       "    .dataframe tbody tr th:only-of-type {\n",
       "        vertical-align: middle;\n",
       "    }\n",
       "\n",
       "    .dataframe tbody tr th {\n",
       "        vertical-align: top;\n",
       "    }\n",
       "\n",
       "    .dataframe thead th {\n",
       "        text-align: right;\n",
       "    }\n",
       "</style>\n",
       "<table border=\"1\" class=\"dataframe\">\n",
       "  <thead>\n",
       "    <tr style=\"text-align: right;\">\n",
       "      <th></th>\n",
       "      <th>class</th>\n",
       "      <th>Host</th>\n",
       "      <th>Connection</th>\n",
       "      <th>Accept</th>\n",
       "      <th>Accept-Charset</th>\n",
       "      <th>Accept-Encoding</th>\n",
       "      <th>Accept-Language</th>\n",
       "      <th>Cache-Control</th>\n",
       "      <th>Client-ip</th>\n",
       "      <th>Cookie</th>\n",
       "      <th>...</th>\n",
       "      <th>UA-OS</th>\n",
       "      <th>UA-Color</th>\n",
       "      <th>UA-Pixels</th>\n",
       "      <th>Via</th>\n",
       "      <th>Transfer-Encoding</th>\n",
       "      <th>Upgrade</th>\n",
       "      <th>Warning</th>\n",
       "      <th>X-Forwarded-For</th>\n",
       "      <th>X-Serial-Number</th>\n",
       "      <th>path</th>\n",
       "    </tr>\n",
       "  </thead>\n",
       "  <tbody>\n",
       "    <tr>\n",
       "      <th>0</th>\n",
       "      <td>Valid</td>\n",
       "      <td>110.174.134.202</td>\n",
       "      <td>keep-alive</td>\n",
       "      <td>*/*;q=0.5</td>\n",
       "      <td>euc-cn;q=0.5, x-mac-japanese;q=0.0, x-mac-kore...</td>\n",
       "      <td>NaN</td>\n",
       "      <td>T18l-g4rtg;q=0.2, lci2-lmii, zet-ynth</td>\n",
       "      <td>no-transform</td>\n",
       "      <td>53.27.195.117</td>\n",
       "      <td>traeDxttdn4butn=vMt</td>\n",
       "      <td>...</td>\n",
       "      <td>FreeBSD</td>\n",
       "      <td>color16</td>\n",
       "      <td>4914x5963</td>\n",
       "      <td>o6Md/3.2 4.192.7.30</td>\n",
       "      <td>gzip</td>\n",
       "      <td>uqn7/3.0, adaoI/9.1, aossv/2.2, skt5nb/9.3</td>\n",
       "      <td>087 www.lusFn.tiff \"cRn1mwq\"</td>\n",
       "      <td>6.180.151.78</td>\n",
       "      <td>17174419292129745419</td>\n",
       "      <td>GET /G1nperlb/hzCOJ/cMiCAf5tjY5qPA/pw2hSenuooG...</td>\n",
       "    </tr>\n",
       "    <tr>\n",
       "      <th>1</th>\n",
       "      <td>PathTransversal</td>\n",
       "      <td>21.121.20.218</td>\n",
       "      <td>btmb0o</td>\n",
       "      <td>*/*</td>\n",
       "      <td>iso-8859-1</td>\n",
       "      <td>gzip;q=0.7</td>\n",
       "      <td>file</td>\n",
       "      <td>min-fresh=3820</td>\n",
       "      <td>95.91.76.121</td>\n",
       "      <td>kdr5gM4mAfpogsh=391450525;tl=lo3r7DeT;ptOatts=...</td>\n",
       "      <td>...</td>\n",
       "      <td>FreeBSD</td>\n",
       "      <td>NaN</td>\n",
       "      <td>NaN</td>\n",
       "      <td>6.4 225.28.156.119</td>\n",
       "      <td>NaN</td>\n",
       "      <td>NaN</td>\n",
       "      <td>NaN</td>\n",
       "      <td>NaN</td>\n",
       "      <td>NaN</td>\n",
       "      <td>GET /akdrop63FL09vENuDy/oC18MHLCaESPrqnFMbAo/2...</td>\n",
       "    </tr>\n",
       "    <tr>\n",
       "      <th>2</th>\n",
       "      <td>Valid</td>\n",
       "      <td>181.16.55.247</td>\n",
       "      <td>keep-alive</td>\n",
       "      <td>application/*, text/plain;q=0.6</td>\n",
       "      <td>iso-8859-5;q=0.1, x-mac-chinesesimp;q=0.0, big...</td>\n",
       "      <td>*</td>\n",
       "      <td>4-ye3utsa, isiEamnE-5iei;q=0.4, oaommi-xe;q=0....</td>\n",
       "      <td>only-if-cached</td>\n",
       "      <td>75.52.136.223</td>\n",
       "      <td>eZshcn=99;iIuC8sE=jWpdu</td>\n",
       "      <td>...</td>\n",
       "      <td>Win98</td>\n",
       "      <td>color32</td>\n",
       "      <td>656x086</td>\n",
       "      <td>8.2 www.ndea5o.jpg, FTP/4.4 www.t0rXm.shtml</td>\n",
       "      <td>identity</td>\n",
       "      <td>ueemt/7.4, bah/0.8, rta/2.0, rbaf/1.3, siueo/2.5</td>\n",
       "      <td>352 176.101.245.85 \"VhmtzhedooeenorYir\" \"Tue, ...</td>\n",
       "      <td>145.80.124.77</td>\n",
       "      <td>618402796</td>\n",
       "      <td>GET /6oanSre7s4sg2e/r1CanTD.swf?eohthm=eosh&amp;se...</td>\n",
       "    </tr>\n",
       "    <tr>\n",
       "      <th>3</th>\n",
       "      <td>XSS</td>\n",
       "      <td>98.229.88.165</td>\n",
       "      <td>iieonsS</td>\n",
       "      <td>*/*</td>\n",
       "      <td>*;q=0.8</td>\n",
       "      <td>gzip;q=0.1, identity;q=0.4, deflate</td>\n",
       "      <td>utobey-3, eutthet-ion1e, me4noou-uwtit, tD-agc...</td>\n",
       "      <td>max-stale=18078</td>\n",
       "      <td>188.124.236.19</td>\n",
       "      <td>octrfEElophoih=670;inziylo=uEiN;letsej6eee=2Na...</td>\n",
       "      <td>...</td>\n",
       "      <td>Mac OS X</td>\n",
       "      <td>color16</td>\n",
       "      <td>5306x1733</td>\n",
       "      <td>0.4 www.acty.css, HTTP/1.8 7.17.142.252, 4.4 w...</td>\n",
       "      <td>identity</td>\n",
       "      <td>ddnzgk/3.0, pnnt/9.2, eehf/9.2</td>\n",
       "      <td>318 www.lawraii.gif</td>\n",
       "      <td>151.1.251.143</td>\n",
       "      <td>126620</td>\n",
       "      <td>GET /eses1i/vMEN5T5AX3bCs/amjhiqZ1zYrgy.mdb?et...</td>\n",
       "    </tr>\n",
       "    <tr>\n",
       "      <th>4</th>\n",
       "      <td>Valid</td>\n",
       "      <td>www.feart.com</td>\n",
       "      <td>close</td>\n",
       "      <td>text/*;q=0.4, video/quicktime, image/*;q=0.3</td>\n",
       "      <td>*</td>\n",
       "      <td>*</td>\n",
       "      <td>tee-se3, n-luonb, rsl-sda</td>\n",
       "      <td>no-cache</td>\n",
       "      <td>126.177.121.250</td>\n",
       "      <td>Wzm=491;yeredtE5e4=daot|l;ini1ssgrssg5Tgr=t2na...</td>\n",
       "      <td>...</td>\n",
       "      <td>Win98</td>\n",
       "      <td>color8</td>\n",
       "      <td>9593x7407</td>\n",
       "      <td>4.7 44.129.0.125, tii/0.4 106.152.64.194, 8.3 ...</td>\n",
       "      <td>gzip</td>\n",
       "      <td>ebeeeA/4.0, bnny5a/4.5, hdfrAb/1.2</td>\n",
       "      <td>817 93.133.40.203 \"t2ar7ldre\"</td>\n",
       "      <td>102.149.83.187</td>\n",
       "      <td>686350212460</td>\n",
       "      <td>GET /eauioT/u-SQcC4BTK/iqkZMbwVICDXPA/7e9aAyem...</td>\n",
       "    </tr>\n",
       "  </tbody>\n",
       "</table>\n",
       "<p>5 rows × 42 columns</p>\n",
       "</div>"
      ],
      "text/plain": [
       "             class             Host  Connection  \\\n",
       "0            Valid  110.174.134.202  keep-alive   \n",
       "1  PathTransversal    21.121.20.218      btmb0o   \n",
       "2            Valid    181.16.55.247  keep-alive   \n",
       "3              XSS    98.229.88.165     iieonsS   \n",
       "4            Valid    www.feart.com       close   \n",
       "\n",
       "                                         Accept  \\\n",
       "0                                     */*;q=0.5   \n",
       "1                                           */*   \n",
       "2               application/*, text/plain;q=0.6   \n",
       "3                                           */*   \n",
       "4  text/*;q=0.4, video/quicktime, image/*;q=0.3   \n",
       "\n",
       "                                      Accept-Charset  \\\n",
       "0  euc-cn;q=0.5, x-mac-japanese;q=0.0, x-mac-kore...   \n",
       "1                                         iso-8859-1   \n",
       "2  iso-8859-5;q=0.1, x-mac-chinesesimp;q=0.0, big...   \n",
       "3                                            *;q=0.8   \n",
       "4                                                  *   \n",
       "\n",
       "                       Accept-Encoding  \\\n",
       "0                                  NaN   \n",
       "1                           gzip;q=0.7   \n",
       "2                                    *   \n",
       "3  gzip;q=0.1, identity;q=0.4, deflate   \n",
       "4                                    *   \n",
       "\n",
       "                                     Accept-Language    Cache-Control  \\\n",
       "0              T18l-g4rtg;q=0.2, lci2-lmii, zet-ynth     no-transform   \n",
       "1                                               file   min-fresh=3820   \n",
       "2  4-ye3utsa, isiEamnE-5iei;q=0.4, oaommi-xe;q=0....   only-if-cached   \n",
       "3  utobey-3, eutthet-ion1e, me4noou-uwtit, tD-agc...  max-stale=18078   \n",
       "4                          tee-se3, n-luonb, rsl-sda         no-cache   \n",
       "\n",
       "         Client-ip                                             Cookie  ...  \\\n",
       "0    53.27.195.117                                traeDxttdn4butn=vMt  ...   \n",
       "1     95.91.76.121  kdr5gM4mAfpogsh=391450525;tl=lo3r7DeT;ptOatts=...  ...   \n",
       "2    75.52.136.223                            eZshcn=99;iIuC8sE=jWpdu  ...   \n",
       "3   188.124.236.19  octrfEElophoih=670;inziylo=uEiN;letsej6eee=2Na...  ...   \n",
       "4  126.177.121.250  Wzm=491;yeredtE5e4=daot|l;ini1ssgrssg5Tgr=t2na...  ...   \n",
       "\n",
       "      UA-OS UA-Color  UA-Pixels  \\\n",
       "0   FreeBSD  color16  4914x5963   \n",
       "1   FreeBSD      NaN        NaN   \n",
       "2     Win98  color32    656x086   \n",
       "3  Mac OS X  color16  5306x1733   \n",
       "4     Win98   color8  9593x7407   \n",
       "\n",
       "                                                 Via Transfer-Encoding  \\\n",
       "0                                o6Md/3.2 4.192.7.30              gzip   \n",
       "1                                 6.4 225.28.156.119               NaN   \n",
       "2        8.2 www.ndea5o.jpg, FTP/4.4 www.t0rXm.shtml          identity   \n",
       "3  0.4 www.acty.css, HTTP/1.8 7.17.142.252, 4.4 w...          identity   \n",
       "4  4.7 44.129.0.125, tii/0.4 106.152.64.194, 8.3 ...              gzip   \n",
       "\n",
       "                                            Upgrade  \\\n",
       "0        uqn7/3.0, adaoI/9.1, aossv/2.2, skt5nb/9.3   \n",
       "1                                               NaN   \n",
       "2  ueemt/7.4, bah/0.8, rta/2.0, rbaf/1.3, siueo/2.5   \n",
       "3                    ddnzgk/3.0, pnnt/9.2, eehf/9.2   \n",
       "4                ebeeeA/4.0, bnny5a/4.5, hdfrAb/1.2   \n",
       "\n",
       "                                             Warning X-Forwarded-For  \\\n",
       "0                       087 www.lusFn.tiff \"cRn1mwq\"    6.180.151.78   \n",
       "1                                                NaN             NaN   \n",
       "2  352 176.101.245.85 \"VhmtzhedooeenorYir\" \"Tue, ...   145.80.124.77   \n",
       "3                                318 www.lawraii.gif   151.1.251.143   \n",
       "4                      817 93.133.40.203 \"t2ar7ldre\"  102.149.83.187   \n",
       "\n",
       "        X-Serial-Number                                               path  \n",
       "0  17174419292129745419  GET /G1nperlb/hzCOJ/cMiCAf5tjY5qPA/pw2hSenuooG...  \n",
       "1                   NaN  GET /akdrop63FL09vENuDy/oC18MHLCaESPrqnFMbAo/2...  \n",
       "2             618402796  GET /6oanSre7s4sg2e/r1CanTD.swf?eohthm=eosh&se...  \n",
       "3                126620  GET /eses1i/vMEN5T5AX3bCs/amjhiqZ1zYrgy.mdb?et...  \n",
       "4          686350212460  GET /eauioT/u-SQcC4BTK/iqkZMbwVICDXPA/7e9aAyem...  \n",
       "\n",
       "[5 rows x 42 columns]"
      ]
     },
     "execution_count": 18,
     "metadata": {},
     "output_type": "execute_result"
    }
   ],
   "source": [
    "df_train.head()"
   ]
  },
  {
   "cell_type": "code",
   "execution_count": 19,
   "metadata": {},
   "outputs": [
    {
     "data": {
      "text/html": [
       "<div>\n",
       "<style scoped>\n",
       "    .dataframe tbody tr th:only-of-type {\n",
       "        vertical-align: middle;\n",
       "    }\n",
       "\n",
       "    .dataframe tbody tr th {\n",
       "        vertical-align: top;\n",
       "    }\n",
       "\n",
       "    .dataframe thead th {\n",
       "        text-align: right;\n",
       "    }\n",
       "</style>\n",
       "<table border=\"1\" class=\"dataframe\">\n",
       "  <thead>\n",
       "    <tr style=\"text-align: right;\">\n",
       "      <th></th>\n",
       "      <th>class</th>\n",
       "      <th>Host</th>\n",
       "      <th>Connection</th>\n",
       "      <th>Accept</th>\n",
       "      <th>Accept-Charset</th>\n",
       "      <th>Accept-Encoding</th>\n",
       "      <th>Accept-Language</th>\n",
       "      <th>Cache-Control</th>\n",
       "      <th>Client-ip</th>\n",
       "      <th>Cookie</th>\n",
       "      <th>...</th>\n",
       "      <th>UA-OS</th>\n",
       "      <th>UA-Color</th>\n",
       "      <th>UA-Pixels</th>\n",
       "      <th>Via</th>\n",
       "      <th>Transfer-Encoding</th>\n",
       "      <th>Upgrade</th>\n",
       "      <th>Warning</th>\n",
       "      <th>X-Forwarded-For</th>\n",
       "      <th>X-Serial-Number</th>\n",
       "      <th>path</th>\n",
       "    </tr>\n",
       "  </thead>\n",
       "  <tbody>\n",
       "    <tr>\n",
       "      <th>0</th>\n",
       "      <td>Valid</td>\n",
       "      <td>93.122.135.211</td>\n",
       "      <td>mazriX</td>\n",
       "      <td>*/*;q=0.9</td>\n",
       "      <td>*;q=0.5</td>\n",
       "      <td>identity;q=0.5, compress;q=0.8</td>\n",
       "      <td>sNahhnfu-jk5, dpmw-o9, hAtnren-cing;q=0.8, d5-...</td>\n",
       "      <td>min-fresh=18061</td>\n",
       "      <td>148.77.109.208</td>\n",
       "      <td>nenw=27;ee0=9HLf1358oK;rfo1otnma=6Ccxx3G-Tk;un...</td>\n",
       "      <td>...</td>\n",
       "      <td>FreeBSD</td>\n",
       "      <td>color16</td>\n",
       "      <td>2101x785</td>\n",
       "      <td>2Pd/5.1 www.a32erlo.jpg</td>\n",
       "      <td>deflate</td>\n",
       "      <td>6stde/0.3, ewtMfk/8.5, rt9eT5/1.5, nSTo/9.3</td>\n",
       "      <td>231 205.9.41.94</td>\n",
       "      <td>178.187.50.135</td>\n",
       "      <td>507745328384064</td>\n",
       "      <td>PUT /td6weuAOfDwLDndqz/sdde/Een1orf/riP@e9samN...</td>\n",
       "    </tr>\n",
       "    <tr>\n",
       "      <th>1</th>\n",
       "      <td>Valid</td>\n",
       "      <td>146.161.92.101</td>\n",
       "      <td>igec</td>\n",
       "      <td>image/*, application/*, application/zip</td>\n",
       "      <td>cp-932;q=0.2, x-mac-roman;q=0.8, windows-1254;...</td>\n",
       "      <td>NaN</td>\n",
       "      <td>Thx-dgeI;q=0.3, eItha-he</td>\n",
       "      <td>no-cache</td>\n",
       "      <td>96.157.124.29</td>\n",
       "      <td>ivwbnNb=p5uimopens</td>\n",
       "      <td>...</td>\n",
       "      <td>Solaris</td>\n",
       "      <td>color16</td>\n",
       "      <td>2740x572</td>\n",
       "      <td>2.7 45.33.67.29</td>\n",
       "      <td>identity</td>\n",
       "      <td>0ss/3.7, rol/6.4, t7a/3.1, oeOo/5.0, iui/8.8</td>\n",
       "      <td>600 www.oeyQ.gif</td>\n",
       "      <td>64.19.200.199</td>\n",
       "      <td>73155166220455300</td>\n",
       "      <td>PUT /webeeeelTlegoocse/8YpasswdJUPs-bqSEKo2/f....</td>\n",
       "    </tr>\n",
       "    <tr>\n",
       "      <th>2</th>\n",
       "      <td>Valid</td>\n",
       "      <td>www.aleSLeez5e.fr</td>\n",
       "      <td>close</td>\n",
       "      <td>audio/*, text/*, application/x-tar</td>\n",
       "      <td>x-mac-chinesetrad;q=0.6, iso-8859-3, gb2312</td>\n",
       "      <td>deflate, identity, identity;q=0.6</td>\n",
       "      <td>tgbnos-jm</td>\n",
       "      <td>no-store</td>\n",
       "      <td>209.144.241.44</td>\n",
       "      <td>erhiJlxnvNvkaD=25496;etxD5h8FlaeaQm=76456;ynot...</td>\n",
       "      <td>...</td>\n",
       "      <td>Win9x</td>\n",
       "      <td>color32</td>\n",
       "      <td>713x311</td>\n",
       "      <td>5.5 162.61.248.36</td>\n",
       "      <td>gzip</td>\n",
       "      <td>hermne/8.2, rtea/6.7, TesMw/7.3, sTw1mc/8.9, Y...</td>\n",
       "      <td>786 239.89.200.109 \"camctrmexIt1\" \"Wed, 19 May...</td>\n",
       "      <td>39.67.73.35</td>\n",
       "      <td>62509497376132928</td>\n",
       "      <td>GET /asGv/Asfceortela0zjRto.jpg?c-bURdbb=jr&amp;bo...</td>\n",
       "    </tr>\n",
       "    <tr>\n",
       "      <th>3</th>\n",
       "      <td>Valid</td>\n",
       "      <td>14.50.24.181</td>\n",
       "      <td>close</td>\n",
       "      <td>*/*</td>\n",
       "      <td>x-mac-korean, x-mac-cyrillic;q=0.6, x-mac-turk...</td>\n",
       "      <td>*;q=0.0</td>\n",
       "      <td>mlo6L-oOe;q=0.3, t-ieT;q=0.6, e-aety7e1;q=0.2,...</td>\n",
       "      <td>no-store</td>\n",
       "      <td>32.51.86.160</td>\n",
       "      <td>wetite=9</td>\n",
       "      <td>...</td>\n",
       "      <td>Windows 98</td>\n",
       "      <td>color8</td>\n",
       "      <td>599x133</td>\n",
       "      <td>5.0 58.159.6.220</td>\n",
       "      <td>compress</td>\n",
       "      <td>lwl/7.6, pratqs/7.3</td>\n",
       "      <td>376 www.ycezutrm.jpg \"nens\" \"Mon, 03 Mar 08 23</td>\n",
       "      <td>59.247.137.64</td>\n",
       "      <td>05592727151</td>\n",
       "      <td>GET /dMFaaJH/rseynma0e/.ptVqyAD/whereGgsanode0...</td>\n",
       "    </tr>\n",
       "    <tr>\n",
       "      <th>4</th>\n",
       "      <td>Valid</td>\n",
       "      <td>www.nNee.be</td>\n",
       "      <td>close</td>\n",
       "      <td>*/*;q=0.5</td>\n",
       "      <td>*</td>\n",
       "      <td>deflate;q=0.4, compress;q=0.5, deflate, compre...</td>\n",
       "      <td>*;q=0.0</td>\n",
       "      <td>only-if-cached</td>\n",
       "      <td>93.241.118.177</td>\n",
       "      <td>Rhas2=e servicesn;30DinputtJboot.ini=r]Es?;omb...</td>\n",
       "      <td>...</td>\n",
       "      <td>Win9x</td>\n",
       "      <td>NaN</td>\n",
       "      <td>NaN</td>\n",
       "      <td>nir9/4.4 www.3eta.gif</td>\n",
       "      <td>deflate</td>\n",
       "      <td>NaN</td>\n",
       "      <td>832 www.ehihKame.gif \"khIC0\"</td>\n",
       "      <td>246.11.40.158</td>\n",
       "      <td>NaN</td>\n",
       "      <td>PUT /0y8LNMMVT3nKz0KO/1da/u1xyxeRYAIR/ebsc8nae...</td>\n",
       "    </tr>\n",
       "  </tbody>\n",
       "</table>\n",
       "<p>5 rows × 42 columns</p>\n",
       "</div>"
      ],
      "text/plain": [
       "   class               Host Connection  \\\n",
       "0  Valid     93.122.135.211     mazriX   \n",
       "1  Valid     146.161.92.101       igec   \n",
       "2  Valid  www.aleSLeez5e.fr      close   \n",
       "3  Valid       14.50.24.181      close   \n",
       "4  Valid        www.nNee.be      close   \n",
       "\n",
       "                                    Accept  \\\n",
       "0                                */*;q=0.9   \n",
       "1  image/*, application/*, application/zip   \n",
       "2       audio/*, text/*, application/x-tar   \n",
       "3                                      */*   \n",
       "4                                */*;q=0.5   \n",
       "\n",
       "                                      Accept-Charset  \\\n",
       "0                                            *;q=0.5   \n",
       "1  cp-932;q=0.2, x-mac-roman;q=0.8, windows-1254;...   \n",
       "2        x-mac-chinesetrad;q=0.6, iso-8859-3, gb2312   \n",
       "3  x-mac-korean, x-mac-cyrillic;q=0.6, x-mac-turk...   \n",
       "4                                                  *   \n",
       "\n",
       "                                     Accept-Encoding  \\\n",
       "0                     identity;q=0.5, compress;q=0.8   \n",
       "1                                                NaN   \n",
       "2                  deflate, identity, identity;q=0.6   \n",
       "3                                            *;q=0.0   \n",
       "4  deflate;q=0.4, compress;q=0.5, deflate, compre...   \n",
       "\n",
       "                                     Accept-Language    Cache-Control  \\\n",
       "0  sNahhnfu-jk5, dpmw-o9, hAtnren-cing;q=0.8, d5-...  min-fresh=18061   \n",
       "1                           Thx-dgeI;q=0.3, eItha-he         no-cache   \n",
       "2                                          tgbnos-jm         no-store   \n",
       "3  mlo6L-oOe;q=0.3, t-ieT;q=0.6, e-aety7e1;q=0.2,...         no-store   \n",
       "4                                            *;q=0.0   only-if-cached   \n",
       "\n",
       "        Client-ip                                             Cookie  ...  \\\n",
       "0  148.77.109.208  nenw=27;ee0=9HLf1358oK;rfo1otnma=6Ccxx3G-Tk;un...  ...   \n",
       "1   96.157.124.29                                 ivwbnNb=p5uimopens  ...   \n",
       "2  209.144.241.44  erhiJlxnvNvkaD=25496;etxD5h8FlaeaQm=76456;ynot...  ...   \n",
       "3    32.51.86.160                                           wetite=9  ...   \n",
       "4  93.241.118.177  Rhas2=e servicesn;30DinputtJboot.ini=r]Es?;omb...  ...   \n",
       "\n",
       "        UA-OS UA-Color UA-Pixels                      Via Transfer-Encoding  \\\n",
       "0     FreeBSD  color16  2101x785  2Pd/5.1 www.a32erlo.jpg           deflate   \n",
       "1     Solaris  color16  2740x572          2.7 45.33.67.29          identity   \n",
       "2       Win9x  color32   713x311        5.5 162.61.248.36              gzip   \n",
       "3  Windows 98   color8   599x133         5.0 58.159.6.220          compress   \n",
       "4       Win9x      NaN       NaN    nir9/4.4 www.3eta.gif           deflate   \n",
       "\n",
       "                                             Upgrade  \\\n",
       "0        6stde/0.3, ewtMfk/8.5, rt9eT5/1.5, nSTo/9.3   \n",
       "1       0ss/3.7, rol/6.4, t7a/3.1, oeOo/5.0, iui/8.8   \n",
       "2  hermne/8.2, rtea/6.7, TesMw/7.3, sTw1mc/8.9, Y...   \n",
       "3                                lwl/7.6, pratqs/7.3   \n",
       "4                                                NaN   \n",
       "\n",
       "                                             Warning X-Forwarded-For  \\\n",
       "0                                    231 205.9.41.94  178.187.50.135   \n",
       "1                                   600 www.oeyQ.gif   64.19.200.199   \n",
       "2  786 239.89.200.109 \"camctrmexIt1\" \"Wed, 19 May...     39.67.73.35   \n",
       "3     376 www.ycezutrm.jpg \"nens\" \"Mon, 03 Mar 08 23   59.247.137.64   \n",
       "4                       832 www.ehihKame.gif \"khIC0\"   246.11.40.158   \n",
       "\n",
       "     X-Serial-Number                                               path  \n",
       "0    507745328384064  PUT /td6weuAOfDwLDndqz/sdde/Een1orf/riP@e9samN...  \n",
       "1  73155166220455300  PUT /webeeeelTlegoocse/8YpasswdJUPs-bqSEKo2/f....  \n",
       "2  62509497376132928  GET /asGv/Asfceortela0zjRto.jpg?c-bURdbb=jr&bo...  \n",
       "3        05592727151  GET /dMFaaJH/rseynma0e/.ptVqyAD/whereGgsanode0...  \n",
       "4                NaN  PUT /0y8LNMMVT3nKz0KO/1da/u1xyxeRYAIR/ebsc8nae...  \n",
       "\n",
       "[5 rows x 42 columns]"
      ]
     },
     "execution_count": 19,
     "metadata": {},
     "output_type": "execute_result"
    }
   ],
   "source": [
    "df_test.head()"
   ]
  },
  {
   "cell_type": "code",
   "execution_count": 20,
   "metadata": {},
   "outputs": [
    {
     "data": {
      "text/plain": [
       "RandomForestClassifier(max_depth=2, random_state=0)"
      ]
     },
     "execution_count": 20,
     "metadata": {},
     "output_type": "execute_result"
    }
   ],
   "source": [
    "RandomForestClassifier(max_depth=2, random_state=0)"
   ]
  },
  {
   "cell_type": "code",
   "execution_count": 21,
   "metadata": {},
   "outputs": [],
   "source": [
    "vectorizer = TfidfVectorizer(max_df=0.5)"
   ]
  },
  {
   "cell_type": "code",
   "execution_count": 22,
   "metadata": {},
   "outputs": [],
   "source": [
    "def to_str(X):\n",
    "    count=0\n",
    "    X_str=[]\n",
    "    for index, row in X.iterrows():\n",
    "        temp=\"\"\n",
    "        for c in X.columns:\n",
    "            temp = temp + ' ' + str(row[c])\n",
    "        X_str.append(temp)\n",
    "#         if count<10:\n",
    "# #             print('index; ', index)\n",
    "#             count+=1\n",
    "#             for c in X.columns:\n",
    "#                 print(row[c])\n",
    "    return X_str\n"
   ]
  },
  {
   "cell_type": "code",
   "execution_count": 23,
   "metadata": {},
   "outputs": [],
   "source": [
    "X_train = df_train.drop(['class'], axis=1)\n",
    "y_train = df_train['class']\n",
    "X_test = df_test.drop(['class'], axis=1)\n",
    "y_test = df_test['class']"
   ]
  },
  {
   "cell_type": "code",
   "execution_count": 24,
   "metadata": {},
   "outputs": [],
   "source": [
    "X_train_str=to_str(X_train)"
   ]
  },
  {
   "cell_type": "code",
   "execution_count": 25,
   "metadata": {},
   "outputs": [],
   "source": [
    "X_train_v = vectorizer.fit_transform(X_train_str)"
   ]
  },
  {
   "cell_type": "code",
   "execution_count": 26,
   "metadata": {},
   "outputs": [],
   "source": [
    "X_test_str=to_str(X_test)\n",
    "X_test_v = vectorizer.transform(X_test_str)"
   ]
  },
  {
   "cell_type": "code",
   "execution_count": 27,
   "metadata": {},
   "outputs": [
    {
     "data": {
      "text/plain": [
       "RandomForestClassifier(max_depth=3, n_estimators=200, random_state=0)"
      ]
     },
     "execution_count": 27,
     "metadata": {},
     "output_type": "execute_result"
    }
   ],
   "source": [
    "clf = RandomForestClassifier(n_estimators=200, max_depth=3, random_state=0)\n",
    "clf.fit(X_train_v, y_train)"
   ]
  },
  {
   "cell_type": "code",
   "execution_count": 28,
   "metadata": {},
   "outputs": [],
   "source": [
    "y_pred = clf.predict(X_test_v)"
   ]
  },
  {
   "cell_type": "code",
   "execution_count": 29,
   "metadata": {},
   "outputs": [],
   "source": [
    "correct = 0\n",
    "for i, val in enumerate(y_test):\n",
    "    if y_pred[i] == val:\n",
    "        correct += 1"
   ]
  },
  {
   "cell_type": "code",
   "execution_count": 30,
   "metadata": {},
   "outputs": [
    {
     "name": "stdout",
     "output_type": "stream",
     "text": [
      "correct  12252  size  17539\n",
      "accuracy  0.6985575004276184\n"
     ]
    }
   ],
   "source": [
    "print(\"correct \", correct, \" size \", len(y_test))\n",
    "print(\"accuracy \", (correct / len(y_test)) )"
   ]
  },
  {
   "cell_type": "code",
   "execution_count": 31,
   "metadata": {},
   "outputs": [
    {
     "data": {
      "text/plain": [
       "array([[12252,     0,     0,     0,     0,     0,     0,     0],\n",
       "       [  639,     0,     0,     0,     0,     0,     0,     0],\n",
       "       [  796,     0,     0,     0,     0,     0,     0,     0],\n",
       "       [  796,     0,     0,     0,     0,     0,     0,     0],\n",
       "       [  798,     0,     0,     0,     0,     0,     0,     0],\n",
       "       [  803,     0,     0,     0,     0,     0,     0,     0],\n",
       "       [  806,     0,     0,     0,     0,     0,     0,     0],\n",
       "       [  649,     0,     0,     0,     0,     0,     0,     0]])"
      ]
     },
     "execution_count": 31,
     "metadata": {},
     "output_type": "execute_result"
    }
   ],
   "source": [
    "conf_mat = confusion_matrix(y_test, y_pred, labels = classes)\n",
    "conf_mat"
   ]
  },
  {
   "cell_type": "markdown",
   "execution_count": null,
   "metadata": {},
   "source": [
    "**Random forest is unable to identify attacks :(**\n",
    "\n",
    "**Try some more models**"
   ]
  },
  {
   "cell_type": "markdown",
   "execution_count": null,
   "metadata": {},
   "source": [
    "## Horizontal conventions are predicted and Vertical are Actual labels"
   ]
  },
  {
   "cell_type": "code",
   "execution_count": 32,
   "metadata": {},
   "outputs": [
    {
     "data": {
      "text/plain": [
       "<matplotlib.axes._subplots.AxesSubplot at 0x7fca60ffbdd0>"
      ]
     },
     "execution_count": 32,
     "metadata": {},
     "output_type": "execute_result"
    },
    {
     "data": {
      "image/png": "[encoded data removed]",
      "text/plain": [
       "<Figure size 432x288 with 2 Axes>"
      ]
     },
     "metadata": {
      "needs_background": "light"
     },
     "output_type": "display_data"
    }
   ],
   "source": [
    "seaborn.heatmap(conf_mat, annot=True, fmt=\"d\")"
   ]
  },
  {
   "cell_type": "markdown",
   "execution_count": null,
   "metadata": {},
   "source": [
    "**Trying different approaches**"
   ]
  },
  {
   "cell_type": "code",
   "execution_count": 33,
   "metadata": {},
   "outputs": [],
   "source": [
    "X=df.drop(['class'], axis=1)\n",
    "y=df['class']"
   ]
  },
  {
   "cell_type": "code",
   "execution_count": 34,
   "metadata": {},
   "outputs": [],
   "source": [
    "X_str = to_str(X)"
   ]
  },
  {
   "cell_type": "code",
   "execution_count": 35,
   "metadata": {},
   "outputs": [],
   "source": [
    "X_v = vectorizer.fit_transform(X_str)"
   ]
  },
  {
   "cell_type": "code",
   "execution_count": 36,
   "metadata": {},
   "outputs": [
    {
     "data": {
      "text/plain": [
       "(50102, 1259229)"
      ]
     },
     "execution_count": 36,
     "metadata": {},
     "output_type": "execute_result"
    }
   ],
   "source": [
    "X_v.shape"
   ]
  },
  {
   "cell_type": "code",
   "execution_count": 37,
   "metadata": {},
   "outputs": [],
   "source": [
    "models = [\n",
    "    RandomForestClassifier(n_estimators=200, max_depth=3, random_state=0),\n",
    "    LinearSVC(),\n",
    "    MultinomialNB(),\n",
    "    LogisticRegression(solver='lbfgs', max_iter=400),\n",
    "]"
   ]
  },
  {
   "cell_type": "code",
   "execution_count": 38,
   "metadata": {},
   "outputs": [],
   "source": [
    "CV = 5\n",
    "cv_df = pd.DataFrame(index=range(CV * len(models)))\n",
    "entries = []\n",
    "for model in models:\n",
    "    model_name = model.__class__.__name__\n",
    "    accuracies = cross_val_score(model, X_v, y, scoring='accuracy', cv=CV)\n",
    "    for fold_idx, accuracy in enumerate(accuracies):\n",
    "        entries.append((model_name, fold_idx, accuracy))\n",
    "cv_df = pd.DataFrame(entries, columns=['model_name', 'fold_idx', 'accuracy'])"
   ]
  },
  {
   "cell_type": "code",
   "execution_count": 39,
   "metadata": {},
   "outputs": [
    {
     "data": {
      "image/png": "[encoded data removed]",
      "text/plain": [
       "<Figure size 432x288 with 1 Axes>"
      ]
     },
     "metadata": {
      "needs_background": "light"
     },
     "output_type": "display_data"
    }
   ],
   "source": [
    "import seaborn as sns\n",
    "sns.boxplot(x='model_name', y='accuracy', data=cv_df)\n",
    "sns.stripplot(x='model_name', y='accuracy', data=cv_df, \n",
    "              size=8, jitter=True, edgecolor=\"gray\", linewidth=2)\n",
    "plt.show()\n"
   ]
  },
  {
   "cell_type": "code",
   "execution_count": 40,
   "metadata": {},
   "outputs": [
    {
     "data": {
      "text/plain": [
       "model_name\n",
       "LinearSVC                 0.987945\n",
       "LogisticRegression        0.916710\n",
       "MultinomialNB             0.698655\n",
       "RandomForestClassifier    0.698635\n",
       "Name: accuracy, dtype: float64"
      ]
     },
     "execution_count": 40,
     "metadata": {},
     "output_type": "execute_result"
    }
   ],
   "source": [
    "cv_df.groupby('model_name').accuracy.mean()"
   ]
  },
  {
   "cell_type": "markdown",
   "execution_count": null,
   "metadata": {},
   "source": [
    "[tutorial](https://towardsdatascience.com/multi-class-text-classification-with-scikit-learn-12f1e60e0a9f)"
   ]
  },
  {
   "cell_type": "markdown",
   "execution_count": null,
   "metadata": {},
   "source": [
    "> Going with linear SVC as it performed better than the rest"
   ]
  },
  {
   "cell_type": "code",
   "execution_count": 41,
   "metadata": {},
   "outputs": [],
   "source": [
    "model = LinearSVC()"
   ]
  },
  {
   "cell_type": "code",
   "execution_count": 42,
   "metadata": {},
   "outputs": [
    {
     "data": {
      "text/plain": [
       "LinearSVC()"
      ]
     },
     "execution_count": 42,
     "metadata": {},
     "output_type": "execute_result"
    }
   ],
   "source": [
    "model.fit(X_train_v, y_train)"
   ]
  },
  {
   "cell_type": "code",
   "execution_count": 43,
   "metadata": {},
   "outputs": [],
   "source": [
    "y_pred = model.predict(X_test_v)"
   ]
  },
  {
   "cell_type": "code",
   "execution_count": 44,
   "metadata": {},
   "outputs": [],
   "source": [
    "conf_mat = confusion_matrix(y_test, y_pred)"
   ]
  },
  {
   "cell_type": "code",
   "execution_count": 45,
   "metadata": {},
   "outputs": [
    {
     "data": {
      "image/png": "[encoded data removed]",
      "text/plain": [
       "<Figure size 720x720 with 2 Axes>"
      ]
     },
     "metadata": {
      "needs_background": "light"
     },
     "output_type": "display_data"
    }
   ],
   "source": [
    "import seaborn as sns\n",
    "labels = sorted(classes)\n",
    "# print(classes, \" labels \", labels)\n",
    "fig, ax = plt.subplots(figsize=(10,10))\n",
    "sns.heatmap(conf_mat, annot=True, fmt='d',\n",
    "            xticklabels = labels, yticklabels = labels)\n",
    "plt.ylabel('Actual')\n",
    "plt.xlabel('Predicted')\n",
    "plt.show()"
   ]
  },
  {
   "cell_type": "code",
   "execution_count": 46,
   "metadata": {},
   "outputs": [
    {
     "ename": "NameError",
     "evalue": "name 'CalibratedClassifierCV' is not defined",
     "output_type": "error",
     "traceback": [
      "\u001b[0;31m---------------------------------------------------------------------------\u001b[0m",
      "\u001b[0;31mNameError\u001b[0m                                 Traceback (most recent call last)",
      "\u001b[0;32m<ipython-input-46-2da4fca31fd5>\u001b[0m in \u001b[0;36m<module>\u001b[0;34m\u001b[0m\n\u001b[1;32m      1\u001b[0m \u001b[0;31m# y_pred = model.predict_proba(X_test_v)\u001b[0m\u001b[0;34m\u001b[0m\u001b[0;34m\u001b[0m\u001b[0;34m\u001b[0m\u001b[0m\n\u001b[0;32m----> 2\u001b[0;31m \u001b[0mclf\u001b[0m \u001b[0;34m=\u001b[0m \u001b[0mCalibratedClassifierCV\u001b[0m\u001b[0;34m(\u001b[0m\u001b[0mmodel\u001b[0m\u001b[0;34m)\u001b[0m\u001b[0;34m\u001b[0m\u001b[0;34m\u001b[0m\u001b[0m\n\u001b[0m\u001b[1;32m      3\u001b[0m \u001b[0mclf\u001b[0m\u001b[0;34m.\u001b[0m\u001b[0mfit\u001b[0m\u001b[0;34m(\u001b[0m\u001b[0mX_train_v\u001b[0m\u001b[0;34m,\u001b[0m \u001b[0my_train\u001b[0m\u001b[0;34m)\u001b[0m\u001b[0;34m\u001b[0m\u001b[0;34m\u001b[0m\u001b[0m\n\u001b[1;32m      4\u001b[0m \u001b[0my_proba\u001b[0m \u001b[0;34m=\u001b[0m \u001b[0mclf\u001b[0m\u001b[0;34m.\u001b[0m\u001b[0mpredict_proba\u001b[0m\u001b[0;34m(\u001b[0m\u001b[0mX_test_v\u001b[0m\u001b[0;34m)\u001b[0m\u001b[0;34m\u001b[0m\u001b[0;34m\u001b[0m\u001b[0m\n",
      "\u001b[0;31mNameError\u001b[0m: name 'CalibratedClassifierCV' is not defined"
     ]
    }
   ],
   "source": [
    "# y_pred = model.predict_proba(X_test_v)\n",
    "clf = CalibratedClassifierCV(model)\n",
    "clf.fit(X_train_v, y_train)\n",
    "y_proba = clf.predict_proba(X_test_v)"
   ]
  },
  {
   "cell_type": "code",
   "execution_count": 47,
   "metadata": {},
   "outputs": [
    {
     "ename": "NameError",
     "evalue": "name 'y_proba' is not defined",
     "output_type": "error",
     "traceback": [
      "\u001b[0;31m---------------------------------------------------------------------------\u001b[0m",
      "\u001b[0;31mNameError\u001b[0m                                 Traceback (most recent call last)",
      "\u001b[0;32m<ipython-input-47-96d7f701c348>\u001b[0m in \u001b[0;36m<module>\u001b[0;34m\u001b[0m\n\u001b[0;32m----> 1\u001b[0;31m \u001b[0my_proba\u001b[0m\u001b[0;34m.\u001b[0m\u001b[0mshape\u001b[0m\u001b[0;34m\u001b[0m\u001b[0;34m\u001b[0m\u001b[0m\n\u001b[0m\u001b[1;32m      2\u001b[0m \u001b[0my_proba\u001b[0m\u001b[0;34m[\u001b[0m\u001b[0;36m0\u001b[0m\u001b[0;34m]\u001b[0m\u001b[0;34m\u001b[0m\u001b[0;34m\u001b[0m\u001b[0m\n",
      "\u001b[0;31mNameError\u001b[0m: name 'y_proba' is not defined"
     ]
    }
   ],
   "source": [
    "y_proba.shape\n",
    "y_proba[0]"
   ]
  },
  {
   "cell_type": "code",
   "execution_count": 48,
   "metadata": {},
   "outputs": [
    {
     "ename": "NameError",
     "evalue": "name 'y_proba' is not defined",
     "output_type": "error",
     "traceback": [
      "\u001b[0;31m---------------------------------------------------------------------------\u001b[0m",
      "\u001b[0;31mNameError\u001b[0m                                 Traceback (most recent call last)",
      "\u001b[0;32m<ipython-input-48-fcb9cea43fb9>\u001b[0m in \u001b[0;36m<module>\u001b[0;34m\u001b[0m\n\u001b[1;32m      6\u001b[0m \u001b[0;31m# y_pred = le.transform(y_proba)\u001b[0m\u001b[0;34m\u001b[0m\u001b[0;34m\u001b[0m\u001b[0;34m\u001b[0m\u001b[0m\n\u001b[1;32m      7\u001b[0m \u001b[0;34m\u001b[0m\u001b[0m\n\u001b[0;32m----> 8\u001b[0;31m \u001b[0mprint\u001b[0m\u001b[0;34m(\u001b[0m\u001b[0;34m\"roc score; \"\u001b[0m\u001b[0;34m,\u001b[0m \u001b[0mroc_auc_score\u001b[0m\u001b[0;34m(\u001b[0m\u001b[0my_test\u001b[0m\u001b[0;34m,\u001b[0m \u001b[0my_proba\u001b[0m\u001b[0;34m,\u001b[0m \u001b[0mmulti_class\u001b[0m \u001b[0;34m=\u001b[0m \u001b[0;34m'ovo'\u001b[0m\u001b[0;34m)\u001b[0m\u001b[0;34m)\u001b[0m\u001b[0;34m\u001b[0m\u001b[0;34m\u001b[0m\u001b[0m\n\u001b[0m",
      "\u001b[0;31mNameError\u001b[0m: name 'y_proba' is not defined"
     ]
    }
   ],
   "source": [
    "from sklearn import preprocessing\n",
    "le = preprocessing.LabelEncoder()\n",
    "# le.fit(y_proba)\n",
    "# print(le.classes_, \" y_test.shape \", y_test.shape, \" y_pred.shape \", y_proba.shape)\n",
    "# y_test = le.transform(y_test)\n",
    "# y_pred = le.transform(y_proba)\n",
    "\n",
    "print(\"roc score; \", roc_auc_score(y_test, y_proba, multi_class = 'ovo'))"
   ]
  },
  {
   "cell_type": "code",
   "execution_count": 49,
   "metadata": {},
   "outputs": [
    {
     "name": "stdout",
     "output_type": "stream",
     "text": [
      "                 precision    recall  f1-score   support\n",
      "\n",
      "  LdapInjection       1.00      0.95      0.97       796\n",
      "   OsCommanding       0.99      0.97      0.98       806\n",
      "PathTransversal       0.95      0.98      0.96       803\n",
      "            SSI       0.97      0.98      0.98       649\n",
      "   SqlInjection       0.99      0.98      0.99       796\n",
      "          Valid       1.00      1.00      1.00     12252\n",
      " XPathInjection       0.99      1.00      0.99       798\n",
      "            XSS       1.00      0.99      0.99       639\n",
      "\n",
      "       accuracy                           0.99     17539\n",
      "      macro avg       0.98      0.98      0.98     17539\n",
      "   weighted avg       0.99      0.99      0.99     17539\n",
      "\n"
     ]
    }
   ],
   "source": [
    "from sklearn import metrics\n",
    "print(metrics.classification_report(y_test, y_pred, target_names = labels))"
   ]
  },
  {
   "cell_type": "markdown",
   "execution_count": null,
   "metadata": {},
   "source": [
    "# Saving the Model and Vectorizer"
   ]
  },
  {
   "cell_type": "code",
   "execution_count": 50,
   "metadata": {},
   "outputs": [
    {
     "data": {
      "text/plain": [
       "['linear_svc_model_v2.joblib']"
      ]
     },
     "execution_count": 50,
     "metadata": {},
     "output_type": "execute_result"
    }
   ],
   "source": [
    "from joblib import dump, load\n",
    "dump(model, 'linear_svc_model_v2.joblib')"
   ]
  },
  {
   "cell_type": "code",
   "execution_count": 51,
   "metadata": {},
   "outputs": [
    {
     "data": {
      "text/plain": [
       "<32563x890038 sparse matrix of type '<class 'numpy.float64'>'\n",
       "\twith 3443249 stored elements in Compressed Sparse Row format>"
      ]
     },
     "execution_count": 51,
     "metadata": {},
     "output_type": "execute_result"
    }
   ],
   "source": [
    "vectorizer.fit_transform(X_train_str)"
   ]
  },
  {
   "cell_type": "code",
   "execution_count": 52,
   "metadata": {},
   "outputs": [
    {
     "data": {
      "text/plain": [
       "['vectorizer_v3.joblib']"
      ]
     },
     "execution_count": 52,
     "metadata": {},
     "output_type": "execute_result"
    }
   ],
   "source": [
    "dump(vectorizer, 'vectorizer_v3.joblib')"
   ]
  }
 ],
 "metadata": {
  "kernelspec": {
   "display_name": "Python 3",
   "language": "python",
   "name": "python3"
  },
  "language_info": {
   "codemirror_mode": {
    "name": "ipython",
    "version": 3
   },
   "file_extension": ".py",
   "mimetype": "text/x-python",
   "name": "python",
   "nbconvert_exporter": "python",
   "pygments_lexer": "ipython3",
   "version": "3.7.6"
  }
 },
 "nbformat": 4,
 "nbformat_minor": 4
}
